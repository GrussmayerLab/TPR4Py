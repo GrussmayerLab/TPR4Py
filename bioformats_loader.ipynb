{
 "cells": [
  {
   "cell_type": "code",
   "execution_count": 4,
   "id": "5dde1b76-449b-41b5-b5a9-455ac0b1ba6f",
   "metadata": {},
   "outputs": [],
   "source": [
    "from os import listdir\n",
    "from os.path import isfile, join, exists, normpath\n",
    "from skimage import io\n",
    "import tifffile as tiff\n",
    "import sys\n",
    "import tkinter as tk\n",
    "from tkinter import filedialog as tkFileDialog\n",
    "from collections import OrderedDict\n",
    "%matplotlib inline\n",
    "import javabridge as jv\n",
    "import bioformats as bf\n",
    "import numpy as np\n",
    "import xml\n",
    "import xml.etree.ElementTree as ET"
   ]
  },
  {
   "cell_type": "code",
   "execution_count": null,
   "id": "0e10a76e",
   "metadata": {},
   "outputs": [],
   "source": [
    "def bfloadFile(path=None, filetype = \"tiff\"):\n",
    "    if path is None:\n",
    "        # Get dir\n",
    "        if exists(initial_dir):\n",
    "            try:\n",
    "                root = tk.Tk()\n",
    "                root.withdraw()\n",
    "                path = tkFileDialog.askdirectory(title=\"Choose Image Directory\", initialdir=initial_dir)\n",
    "            except:\n",
    "                sys.stdout.write(\"\\nDir not found!\\n\")\n",
    "            return\n",
    "        else:\n",
    "            try:\n",
    "                path = tkFileDialog.askdirectory(title=\"Choose Image Directory\")\n",
    "            except:\n",
    "                sys.stdout.write(\"\\nDir not found!\\n\")\n",
    "            return\n",
    "        \n",
    "    jv.start_vm(class_path=bf.JARS, max_heap_size=\"8G\")\n",
    "    \n",
    "    files = [f for f in listdir(path) if isfile(join(path, f)) and\n",
    "             f.endswith(filetype) and \n",
    "             not (f.endswith(\"json\") or f.endswith(\"txt\"))]    \n",
    "    imbatch = OrderedDict()\n",
    "    for file in files: \n",
    "        path_file = join(path,file)\n",
    "        rdr = bf.ImageReader(path_file, perform_init=True)\n",
    "        reader = rdr.rdr\n",
    "        # get metadata\n",
    "        md = bf.get_omexml_metadata(path_file)\n",
    "        # output\n",
    "        print(type(md))\n",
    "        print(len(md))\n",
    "        print(md[:10])\n",
    "        \n",
    "        mdroot = ET.fromstring(md)\n",
    "        print(len(mdroot))\n",
    "        print([(a.tag, a.attrib) for a in list(list(mdroot[0]))])\n",
    "        # Kill the VM at the end! I actually edited this first\n",
    "        # because it's easy to forget!\n",
    "        jv.kill_vm()\n",
    "        \n",
    "    return imbatch"
   ]
  },
  {
   "cell_type": "code",
   "execution_count": null,
   "id": "fa318585",
   "metadata": {},
   "outputs": [],
   "source": [
    "path = r\"C:\\Users\\mengelhardt\\Pictures\\20161216_fixed_cells_WF\\001_HEK293T_stack100_WF\"\n",
    "#path = r\"C:\\Users\\mengelhardt\\data\\local\\Test Stack\\Test Stack\"\n",
    "TH_FOV = 5000 # size threshold for automatic FOV detection\n",
    "slicing = 1\n",
    "\n",
    "files = bfloadFile(path, filetype = \"tif\") \n",
    "\n",
    "#jv.kill_vm()"
   ]
  },
  {
   "cell_type": "code",
   "execution_count": null,
   "id": "55f1eebb",
   "metadata": {},
   "outputs": [],
   "source": [
    "jv.kill_vm()"
   ]
  }
 ],
 "metadata": {
  "kernelspec": {
   "display_name": "Python 3 (ipykernel)",
   "language": "python",
   "name": "python3"
  },
  "language_info": {
   "codemirror_mode": {
    "name": "ipython",
    "version": 3
   },
   "file_extension": ".py",
   "mimetype": "text/x-python",
   "name": "python",
   "nbconvert_exporter": "python",
   "pygments_lexer": "ipython3",
   "version": "3.10.5"
  },
  "toc": {
   "base_numbering": 1,
   "nav_menu": {},
   "number_sections": true,
   "sideBar": true,
   "skip_h1_title": false,
   "title_cell": "Table of Contents",
   "title_sidebar": "Contents",
   "toc_cell": false,
   "toc_position": {},
   "toc_section_display": true,
   "toc_window_display": false
  }
 },
 "nbformat": 4,
 "nbformat_minor": 5
}
