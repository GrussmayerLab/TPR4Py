{
 "cells": [
  {
   "cell_type": "markdown",
   "id": "d3b3a061",
   "metadata": {},
   "source": [
    "### # Estimate calibration factor alpha from 3D beads data (zyx)\n",
    "\n",
    "This file contains a basic pipeline for QP retrieval from brightfield stacks\n",
    "* 4D image stack loading\n",
    "* 4D stack preprocessing\n",
    "* processing parameters definition\n",
    "* phase calculation\n",
    "* display of the results\n",
    "\n",
    "\n",
    "This program is free software: you can redistribute it and/or modify it under the terms of the GNU General Public License as published by the Free Software Foundation, either version 3 of the License, or (at your option) any later version.\n",
    "\n",
    "This program is distributed in the hope that it will be useful, but WITHOUT ANY WARRANTY; without even the implied warranty of MERCHANTABILITY or FITNESS FOR A PARTICULAR PURPOSE.  See the GNU General Public License for more details.\n",
    "\n",
    " You should have received a copy of the GNU General Public License, with this program.  If not, see <http://www.gnu.org/licenses/>.\n"
   ]
  },
  {
   "cell_type": "markdown",
   "id": "131b4815",
   "metadata": {},
   "source": [
    "# load modules"
   ]
  },
  {
   "cell_type": "code",
   "execution_count": 1,
   "id": "b1d8d477",
   "metadata": {},
   "outputs": [],
   "source": [
    "import numpy as np\n",
    "import os\n",
    "#import napari\n",
    "#from utils.io import loadData, writeData, loadDataOld\n",
    "from utils.cropXY import cropXY\n",
    "from utils.cropCoregMask import cropCoregMask\n",
    "from utils.phase_structure import phase_structure\n",
    "from utils.getQP import getQP\n",
    "#from utils.plotStack import plotStack"
   ]
  },
  {
   "cell_type": "code",
   "execution_count": 2,
   "id": "0e9a32b4-dcaf-4dfb-8f9f-4c2cae7af8a3",
   "metadata": {},
   "outputs": [],
   "source": [
    "# modify QP retrieval to iterate gamma output\n",
    "import numpy as np\n",
    "from numpy import dot, pi, sin, cos, angle, logical_and, logical_or\n",
    "import numpy.fft as fft\n",
    "import math\n",
    "import time\n",
    "from utils.getMirroredStack import getMirroredStack\n",
    "from utils.map3D import map3D\n",
    "from skimage import io\n",
    "import numpy as np\n",
    "from numpy import dot\n",
    "from copy import copy  \n",
    "import matplotlib.pyplot as plt\n",
    "import scipy \n",
    "import tifffile as tf\n",
    "\n",
    "def getMirroredStack(stack=None,s=None,*args,**kwargs):\n",
    "\n",
    "    Nx,Ny,Nz=stack.shape\n",
    "    \n",
    "    if Nx != Ny:                     # verify that the stack is square\n",
    "        stack=cropXY(stack)          # if not, crop it\n",
    "    \n",
    "    # compute real space\n",
    "    x=np.linspace(dot(- Nx,s.optics_dx) / 2,dot(Nx,s.optics_dx) / 2,Nx)\n",
    "    z=np.linspace(dot(- Nz,s.optics_dz) / 2,dot(Nz,s.optics_dz) / 2,Nz)\n",
    "    # mirror z-stack\n",
    "    temp=copy(stack)\n",
    "    if s.proc_mirrorZ:\n",
    "        t=copy(temp)\n",
    "        t = np.append(t,temp[:, :, ::-1], 2)\n",
    "        temp=copy(t)\n",
    "        kz=np.multiply(dot(2,np.pi) / (max(z) - min(z)),np.linspace(- Nz / 2,(Nz - 1) / 2,dot(2,Nz)))\n",
    "    else:\n",
    "        if np.mod(Nz,2):\n",
    "            kz=np.multiply(dot(2,np.pi) / (max(z) - min(z)),np.linspace(- Nz / 2,Nz / 2,Nz))\n",
    "        else:\n",
    "            kz=np.multiply(dot(2,np.pi) / (max(z) - min(z)),np.linspace(- Nz / 2,Nz / 2 - 1,Nz))\n",
    "            \n",
    "    # mirror x dim\n",
    "    if s.proc_mirrorX:\n",
    "        t=copy(temp)\n",
    "        t = np.append(t,temp[::-1,:, :],0)\n",
    "        t[int(len(t)/2):,:,:] = t[:int(len(t)/2):-1,:,:]\n",
    "    \n",
    "        temp=copy(t)\n",
    "        kx=np.multiply(dot(2,np.pi) / (max(x) - min(x)),np.linspace(- Nx / 2,(Nx - 1) / 2,dot(2,Nx)))\n",
    "    else:\n",
    "        if np.mod(Nz,2):\n",
    "            kx=np.multiply(dot(2,np.pi) / (max(x) - min(x)),np.linspace(- Nx / 2,Nx / 2,Nx))\n",
    "        else:\n",
    "            kx=np.multiply(dot(2,np.pi) / (max(x) - min(x)),np.linspace(- Nx / 2,Nx / 2 - 1,Nx))\n",
    "    stackM = temp\n",
    "    \n",
    "    return kx,kz,stackM\n",
    "\n",
    "\n",
    "def getQP(stack=None,struct=None,mask=None, log = False):\n",
    "    print(f\"struct.optics_alpha: {struct.optics_alpha}\")\n",
    "    #print(f\"stack.shape {stack.shape}\")\n",
    "    # mirror the data and compute adequate Fourier space grid\n",
    "    kx,kz,stackM = getMirroredStack(stack,struct)\n",
    "    #print(f\"stackM.shape {stackM.shape}\")\n",
    "    if mask is None: # if no mask is provided\n",
    "        # compute usefull stuff\n",
    "        th=math.asin(struct.optics_NA / struct.optics_n)\n",
    "        th_ill=math.asin(struct.optics_NA_ill / struct.optics_n)\n",
    "        k0max = dot(dot(struct.optics_n,2),pi) / (struct.optics_wv - struct.optics_dlambda / 2) \n",
    "        k0min = dot(dot(struct.optics_n,2),pi) / (struct.optics_wv + struct.optics_dlambda / 2) \n",
    "        \n",
    "        # compute Fourier space grid and the phase mask\n",
    "        Kx,Kz=np.meshgrid(kx,kz)\n",
    "        if struct.optics_kzT is None:\n",
    "            mask2D = Kz >= np.dot(k0max,(1 - cos(th_ill)))\n",
    "        else:\n",
    "            mask2D = Kz >= struct.optics_kzT\n",
    "\n",
    "\n",
    "        if struct.proc_applyFourierMask:  #  => compute the CTF mask for extra denoising\n",
    "            # CTF theory\n",
    "            maskCTF = logical_and(logical_and(logical_and(\n",
    "                ((Kx - dot(k0max,sin(th_ill))) ** 2 + (Kz - dot(k0max,cos(th_ill))) ** 2) <= k0max ** 2, \\\n",
    "                    ((Kx + dot(k0min,sin(th_ill))) ** 2 + (Kz - k0min) ** 2) >= k0min ** 2), Kx >= 0), \\\n",
    "                    Kz < dot(k0max,(1 - cos(th))))            \n",
    "            maskCTF = logical_or(maskCTF,maskCTF[:,::-1])\n",
    "            mask2D = np.asanyarray(logical_and(mask2D,maskCTF), dtype=int)\n",
    "        # since we assume a circular symetric CTF, we expand the 2Dmask in 3D\n",
    "        mask=map3D(mask2D)\n",
    "        #np.save(\"data\\mask3D.npy\", mask)\n",
    "\n",
    "    # Cross-Spectral Density calculation\n",
    "    if log:\n",
    "        print(\"Shifting FFT..\")\n",
    "    Ik=fft.fftshift(fft.fftn(fft.fftshift(stackM)))\n",
    "    #print(f\"stackM.shape {stackM.shape}\")\n",
    "    #print(f\"Ik.shape {Ik.shape}\")\n",
    "    #print(f\"mask.shape {mask.shape}\")\n",
    "    Gamma=np.multiply(Ik,mask)          # cross-spectral density\n",
    "    if log:\n",
    "        print(\"Inverse FFT..\")\n",
    "    csd=fft.ifftshift(fft.ifftn(fft.ifftshift(Gamma)))\n",
    "    csd = csd[:stack.shape[0], :stack.shape[1], :stack.shape[2]]   # remove the mirrored input\n",
    "    \n",
    "    QP = angle(csd + np.mean(np.ravel(stack)) / struct.optics_alpha)\n",
    "\n",
    "    #return QP,mask,Gamma\n",
    "    return QP\n",
    "\n",
    "def writeData(QP, path, filename, s): \n",
    "    outputImageFileName = os.path.join(path, f\"QP_{filename}\")    \n",
    "    if len(QP.shape) == 4:\n",
    "        QP = np.transpose(QP, (2,1,0,3))\n",
    "        print(\"4d\")\n",
    "        axes = 'ZYXT'\n",
    "    else: \n",
    "        QP = np.transpose(QP, (2,1,0))\n",
    "        print(\"3d\")\n",
    "        axes = \"ZXY\"\n",
    "    print(QP.shape)\n",
    "    tf.imwrite(\n",
    "        outputImageFileName,\n",
    "        QP,\n",
    "        resolution=(0.107, 0.107),\n",
    "        metadata={ \n",
    "            'spacing': s.optics_dz,\n",
    "            'unit': 'um',\n",
    "            'finterval': 1,\n",
    "            'axes': axes\n",
    "        })\n",
    "\n",
    "    print(f\"writing QP stack {outputImageFileName} finished.\")"
   ]
  },
  {
   "cell_type": "markdown",
   "id": "f28e5e4e",
   "metadata": {},
   "source": [
    "# load data"
   ]
  },
  {
   "cell_type": "code",
   "execution_count": 25,
   "id": "ff53f24f",
   "metadata": {},
   "outputs": [
    {
     "name": "stdout",
     "output_type": "stream",
     "text": [
      "(151, 491, 413)\n"
     ]
    }
   ],
   "source": [
    "#%% 3D image stack loading\n",
    "file = r\"C:\\Users\\mengelhardt\\data\\local\\2022-11-25\\0_50_um_stack_1\\rcrop_0_50_um_stack_1_MMStack.ome-1.tif\"\n",
    "QP_theo = 2.81 # theoretical maximum phase value\n",
    "#z = 4\n",
    "#t = 50\n",
    "#stack, fname = loadData(file,\"tif\", z,t) # loadData also takes filepath as input\n",
    "stack = io.imread(file)\n",
    "# flag if you want to explore the data in napari\n",
    "PLOT_FLAG = True \n",
    "print(stack.shape)"
   ]
  },
  {
   "cell_type": "markdown",
   "id": "0150fa41-26c4-4739-a4bb-aaf69f86a5d6",
   "metadata": {},
   "source": [
    "## assign dimensions accordingly\n",
    "permute if necessary (order should be x,y,z,t) "
   ]
  },
  {
   "cell_type": "code",
   "execution_count": 26,
   "id": "ab542405-1024-4ffd-84e1-1ae456adbc0c",
   "metadata": {},
   "outputs": [
    {
     "name": "stdout",
     "output_type": "stream",
     "text": [
      "(151, 491, 413)\n"
     ]
    }
   ],
   "source": [
    "Nz,Ny,Nx = stack.shape\n",
    "print(stack.shape)"
   ]
  },
  {
   "cell_type": "markdown",
   "id": "46426ce9-5f9f-4e2a-bd38-bb198b6b9e82",
   "metadata": {},
   "source": [
    "## permute input stack if necessary"
   ]
  },
  {
   "cell_type": "code",
   "execution_count": 27,
   "id": "d48a88c8-07e7-4391-bdc4-2881f14a85f1",
   "metadata": {},
   "outputs": [
    {
     "name": "stdout",
     "output_type": "stream",
     "text": [
      "(491, 413, 151)\n"
     ]
    }
   ],
   "source": [
    "NEW_ORDER = [1,2,0]\n",
    "stack = np.transpose(stack, NEW_ORDER)\n",
    "\n",
    "Nx,Ny,Nz = stack.shape\n",
    "print(stack.shape)"
   ]
  },
  {
   "cell_type": "markdown",
   "id": "e64cf762",
   "metadata": {},
   "source": [
    "# 3D stack Preprocess stack"
   ]
  },
  {
   "cell_type": "code",
   "execution_count": 28,
   "id": "8be1f6f9",
   "metadata": {},
   "outputs": [
    {
     "name": "stdout",
     "output_type": "stream",
     "text": [
      "Cropping..\n",
      "Cropping finished\n",
      "(413, 413, 151)\n"
     ]
    }
   ],
   "source": [
    "if Nz == 8:                                 # i.e. multiplane data: remove the coregistration mask\n",
    "    stack=cropCoregMask(stack)\n",
    "    TEMP_NPIX = 100                         #  variable was undefined in mat file, set accordingly         \n",
    "    stack=cropXY(stack,TEMP_NPIX - 4)       #  extra safety crop \n",
    "else:\n",
    "    stack=cropXY(stack)\n",
    "Nx,Ny,Nz = stack.shape\n",
    "print(stack.shape)"
   ]
  },
  {
   "cell_type": "markdown",
   "id": "30165e8d-0abc-4765-88f4-fd9bdb02f025",
   "metadata": {},
   "source": [
    "# Phase retrieval\n",
    "## define optics and processing parameters"
   ]
  },
  {
   "cell_type": "code",
   "execution_count": 29,
   "id": "17caf5ca",
   "metadata": {},
   "outputs": [
    {
     "name": "stdout",
     "output_type": "stream",
     "text": [
      "Phase structure: \n",
      "_________________\n",
      "s.optics_dx = 0.1067 \t \t s.optics_wv = 0.58\n",
      "s.optics_dz = 0.1 \t \t s.optics_dlambda = 0.075\n",
      "s.optics_NA = 1.3 \t \t s.optics_alpha = 4.21\n",
      "s.optics_NA_ill = 0.55 \t \t s.optics_kzT = 0.01\n",
      "s.optics_n = 1.406\n",
      "Processing paramters: \n",
      "_________________\n",
      "s.proc_mirrorX = False \t \t s.proc_mirrorZ = True\n",
      "s.proc_applyFourierMask = True\n"
     ]
    }
   ],
   "source": [
    "s=phase_structure()\n",
    "\n",
    "s.optics_kzT = 0.01                 # Axial cutoff frequency\n",
    "#s.optics_kzT = 1.3 * (np.pi/0.455)*(1-np.sqrt(1-(0.58)**2))\n",
    "# if set to [], use the theoretical value\n",
    "s.proc_mirrorX = False             # mirror the input stack along X \n",
    "s.proc_mirrorZ = True               # mirror the input stack along Z\n",
    "s.proc_applyFourierMask = True\n",
    "# set experimental parameters\n",
    "if Nz == 4:              # i.e. MultiPlane data\n",
    "    s.optics_dz = 0.72               # [um]\n",
    "else:\n",
    "    s.optics_dz = 0.1               # sampling beads\n",
    "    \n",
    "phase_structure.summarise(s)"
   ]
  },
  {
   "cell_type": "markdown",
   "id": "f5d06c75",
   "metadata": {
    "tags": []
   },
   "source": [
    "# compute the phase and optimise iteratively\n",
    "* if you have a dense sample ( and you are sure that in an image tiled up in 9 equal subimages every part will have a bead) then choose QP_optim_tiled\n",
    "Target values for: \n",
    "* 0.2um: 0.137 (correction factor for PSF size) -> phase: 0.189 \n",
    "* 0.5um: 1.405\n",
    "* 0.75um: 2.1075\n",
    "* 1.00um: 2.81\n"
   ]
  },
  {
   "cell_type": "code",
   "execution_count": 30,
   "id": "385b5b52-0ca6-4561-8720-fb7d048b0611",
   "metadata": {},
   "outputs": [],
   "source": [
    "init_xa, init_xb = 2.5, 4.75\n",
    "\n",
    "def QP_optim(alpha):\n",
    "    s.optics_alpha = alpha \n",
    "    return np.abs(np.amax(getQP(stack[:,:,:],s)) - QP_theo)\n",
    "\n",
    "\n",
    "def QP_optim_tiled(alpha):\n",
    "    s.optics_alpha = alpha \n",
    "    rows = np.linspace(0, stack.shape[0], 3).astype(int)\n",
    "    columns = np.linspace(0, stack.shape[0], 3).astype(int)\n",
    "    MAXS = []\n",
    "    for r in range(len(rows)-1):\n",
    "        for c in range(len(columns)-1):\n",
    "            print(f\"Processing rows {rows[r]}:{rows[r+1]} & cols {columns[c]}:{columns[c+1]}\")\n",
    "            MAXS.append(np.amax(getQP(stack[rows[r]:rows[r+1],columns[c]:columns[c+1],:],s)))\n",
    "    MAXS = np.sort(np.array(MAXS))\n",
    "    MAXS = MAXS[1:-1] # filter for tp and bottom outlier \n",
    "    return np.abs(np.mean(MAXS) - QP_theo)\n"
   ]
  },
  {
   "cell_type": "code",
   "execution_count": 31,
   "id": "54369dc8-ca50-4bde-bd0b-5646358d2531",
   "metadata": {},
   "outputs": [
    {
     "name": "stdout",
     "output_type": "stream",
     "text": [
      "Processing rows 0:206 & cols 0:206\n",
      "struct.optics_alpha: 3.3594235253127365\n",
      "Processing rows 0:206 & cols 206:413\n",
      "struct.optics_alpha: 3.3594235253127365\n",
      "Cropping..\n",
      "Cropping finished\n",
      "Processing rows 206:413 & cols 0:206\n",
      "struct.optics_alpha: 3.3594235253127365\n",
      "Cropping..\n",
      "Cropping finished\n"
     ]
    },
    {
     "ename": "ValueError",
     "evalue": "operands could not be broadcast together with shapes (206,206,302) (207,207,302) ",
     "output_type": "error",
     "traceback": [
      "\u001b[1;31m---------------------------------------------------------------------------\u001b[0m",
      "\u001b[1;31mValueError\u001b[0m                                Traceback (most recent call last)",
      "\u001b[1;32m~\\AppData\\Local\\Temp\\ipykernel_18820\\1859371434.py\u001b[0m in \u001b[0;36m<cell line: 1>\u001b[1;34m()\u001b[0m\n\u001b[1;32m----> 1\u001b[1;33m \u001b[0mOPTIM\u001b[0m \u001b[1;33m=\u001b[0m \u001b[0mscipy\u001b[0m\u001b[1;33m.\u001b[0m\u001b[0moptimize\u001b[0m\u001b[1;33m.\u001b[0m\u001b[0mminimize_scalar\u001b[0m\u001b[1;33m(\u001b[0m\u001b[0mQP_optim_tiled\u001b[0m\u001b[1;33m,\u001b[0m \u001b[0mmethod\u001b[0m\u001b[1;33m=\u001b[0m\u001b[1;34m'bounded'\u001b[0m\u001b[1;33m,\u001b[0m \u001b[0mbounds\u001b[0m\u001b[1;33m=\u001b[0m\u001b[1;33m(\u001b[0m\u001b[0minit_xa\u001b[0m\u001b[1;33m,\u001b[0m \u001b[0minit_xb\u001b[0m\u001b[1;33m)\u001b[0m\u001b[1;33m)\u001b[0m\u001b[1;33m\u001b[0m\u001b[1;33m\u001b[0m\u001b[0m\n\u001b[0m\u001b[0;32m      2\u001b[0m \u001b[0mprint\u001b[0m\u001b[1;33m(\u001b[0m\u001b[1;34mf\"-----------------------------------\\n Optimisation finished after {OPTIM.nit} iterations.\\n Alpha: {OPTIM.x}\"\u001b[0m\u001b[1;33m)\u001b[0m\u001b[1;33m\u001b[0m\u001b[1;33m\u001b[0m\u001b[0m\n",
      "\u001b[1;32m~\\.conda\\envs\\phase-env\\lib\\site-packages\\scipy\\optimize\\_minimize.py\u001b[0m in \u001b[0;36mminimize_scalar\u001b[1;34m(fun, bracket, bounds, args, method, tol, options)\u001b[0m\n\u001b[0;32m    889\u001b[0m             raise ValueError('The `bounds` parameter is mandatory for '\n\u001b[0;32m    890\u001b[0m                              'method `bounded`.')\n\u001b[1;32m--> 891\u001b[1;33m         \u001b[1;32mreturn\u001b[0m \u001b[0m_minimize_scalar_bounded\u001b[0m\u001b[1;33m(\u001b[0m\u001b[0mfun\u001b[0m\u001b[1;33m,\u001b[0m \u001b[0mbounds\u001b[0m\u001b[1;33m,\u001b[0m \u001b[0margs\u001b[0m\u001b[1;33m,\u001b[0m \u001b[1;33m**\u001b[0m\u001b[0moptions\u001b[0m\u001b[1;33m)\u001b[0m\u001b[1;33m\u001b[0m\u001b[1;33m\u001b[0m\u001b[0m\n\u001b[0m\u001b[0;32m    892\u001b[0m     \u001b[1;32melif\u001b[0m \u001b[0mmeth\u001b[0m \u001b[1;33m==\u001b[0m \u001b[1;34m'golden'\u001b[0m\u001b[1;33m:\u001b[0m\u001b[1;33m\u001b[0m\u001b[1;33m\u001b[0m\u001b[0m\n\u001b[0;32m    893\u001b[0m         \u001b[1;32mreturn\u001b[0m \u001b[0m_minimize_scalar_golden\u001b[0m\u001b[1;33m(\u001b[0m\u001b[0mfun\u001b[0m\u001b[1;33m,\u001b[0m \u001b[0mbracket\u001b[0m\u001b[1;33m,\u001b[0m \u001b[0margs\u001b[0m\u001b[1;33m,\u001b[0m \u001b[1;33m**\u001b[0m\u001b[0moptions\u001b[0m\u001b[1;33m)\u001b[0m\u001b[1;33m\u001b[0m\u001b[1;33m\u001b[0m\u001b[0m\n",
      "\u001b[1;32m~\\.conda\\envs\\phase-env\\lib\\site-packages\\scipy\\optimize\\_optimize.py\u001b[0m in \u001b[0;36m_minimize_scalar_bounded\u001b[1;34m(func, bounds, args, xatol, maxiter, disp, **unknown_options)\u001b[0m\n\u001b[0;32m   2109\u001b[0m     \u001b[0mrat\u001b[0m \u001b[1;33m=\u001b[0m \u001b[0me\u001b[0m \u001b[1;33m=\u001b[0m \u001b[1;36m0.0\u001b[0m\u001b[1;33m\u001b[0m\u001b[1;33m\u001b[0m\u001b[0m\n\u001b[0;32m   2110\u001b[0m     \u001b[0mx\u001b[0m \u001b[1;33m=\u001b[0m \u001b[0mxf\u001b[0m\u001b[1;33m\u001b[0m\u001b[1;33m\u001b[0m\u001b[0m\n\u001b[1;32m-> 2111\u001b[1;33m     \u001b[0mfx\u001b[0m \u001b[1;33m=\u001b[0m \u001b[0mfunc\u001b[0m\u001b[1;33m(\u001b[0m\u001b[0mx\u001b[0m\u001b[1;33m,\u001b[0m \u001b[1;33m*\u001b[0m\u001b[0margs\u001b[0m\u001b[1;33m)\u001b[0m\u001b[1;33m\u001b[0m\u001b[1;33m\u001b[0m\u001b[0m\n\u001b[0m\u001b[0;32m   2112\u001b[0m     \u001b[0mnum\u001b[0m \u001b[1;33m=\u001b[0m \u001b[1;36m1\u001b[0m\u001b[1;33m\u001b[0m\u001b[1;33m\u001b[0m\u001b[0m\n\u001b[0;32m   2113\u001b[0m     \u001b[0mfmin_data\u001b[0m \u001b[1;33m=\u001b[0m \u001b[1;33m(\u001b[0m\u001b[1;36m1\u001b[0m\u001b[1;33m,\u001b[0m \u001b[0mxf\u001b[0m\u001b[1;33m,\u001b[0m \u001b[0mfx\u001b[0m\u001b[1;33m)\u001b[0m\u001b[1;33m\u001b[0m\u001b[1;33m\u001b[0m\u001b[0m\n",
      "\u001b[1;32m~\\AppData\\Local\\Temp\\ipykernel_18820\\4081419122.py\u001b[0m in \u001b[0;36mQP_optim_tiled\u001b[1;34m(alpha)\u001b[0m\n\u001b[0;32m     14\u001b[0m         \u001b[1;32mfor\u001b[0m \u001b[0mc\u001b[0m \u001b[1;32min\u001b[0m \u001b[0mrange\u001b[0m\u001b[1;33m(\u001b[0m\u001b[0mlen\u001b[0m\u001b[1;33m(\u001b[0m\u001b[0mcolumns\u001b[0m\u001b[1;33m)\u001b[0m\u001b[1;33m-\u001b[0m\u001b[1;36m1\u001b[0m\u001b[1;33m)\u001b[0m\u001b[1;33m:\u001b[0m\u001b[1;33m\u001b[0m\u001b[1;33m\u001b[0m\u001b[0m\n\u001b[0;32m     15\u001b[0m             \u001b[0mprint\u001b[0m\u001b[1;33m(\u001b[0m\u001b[1;34mf\"Processing rows {rows[r]}:{rows[r+1]} & cols {columns[c]}:{columns[c+1]}\"\u001b[0m\u001b[1;33m)\u001b[0m\u001b[1;33m\u001b[0m\u001b[1;33m\u001b[0m\u001b[0m\n\u001b[1;32m---> 16\u001b[1;33m             \u001b[0mMAXS\u001b[0m\u001b[1;33m.\u001b[0m\u001b[0mappend\u001b[0m\u001b[1;33m(\u001b[0m\u001b[0mnp\u001b[0m\u001b[1;33m.\u001b[0m\u001b[0mamax\u001b[0m\u001b[1;33m(\u001b[0m\u001b[0mgetQP\u001b[0m\u001b[1;33m(\u001b[0m\u001b[0mstack\u001b[0m\u001b[1;33m[\u001b[0m\u001b[0mrows\u001b[0m\u001b[1;33m[\u001b[0m\u001b[0mr\u001b[0m\u001b[1;33m]\u001b[0m\u001b[1;33m:\u001b[0m\u001b[0mrows\u001b[0m\u001b[1;33m[\u001b[0m\u001b[0mr\u001b[0m\u001b[1;33m+\u001b[0m\u001b[1;36m1\u001b[0m\u001b[1;33m]\u001b[0m\u001b[1;33m,\u001b[0m\u001b[0mcolumns\u001b[0m\u001b[1;33m[\u001b[0m\u001b[0mc\u001b[0m\u001b[1;33m]\u001b[0m\u001b[1;33m:\u001b[0m\u001b[0mcolumns\u001b[0m\u001b[1;33m[\u001b[0m\u001b[0mc\u001b[0m\u001b[1;33m+\u001b[0m\u001b[1;36m1\u001b[0m\u001b[1;33m]\u001b[0m\u001b[1;33m,\u001b[0m\u001b[1;33m:\u001b[0m\u001b[1;33m]\u001b[0m\u001b[1;33m,\u001b[0m\u001b[0ms\u001b[0m\u001b[1;33m)\u001b[0m\u001b[1;33m)\u001b[0m\u001b[1;33m)\u001b[0m\u001b[1;33m\u001b[0m\u001b[1;33m\u001b[0m\u001b[0m\n\u001b[0m\u001b[0;32m     17\u001b[0m     \u001b[0mMAXS\u001b[0m \u001b[1;33m=\u001b[0m \u001b[0mnp\u001b[0m\u001b[1;33m.\u001b[0m\u001b[0msort\u001b[0m\u001b[1;33m(\u001b[0m\u001b[0mnp\u001b[0m\u001b[1;33m.\u001b[0m\u001b[0marray\u001b[0m\u001b[1;33m(\u001b[0m\u001b[0mMAXS\u001b[0m\u001b[1;33m)\u001b[0m\u001b[1;33m)\u001b[0m\u001b[1;33m\u001b[0m\u001b[1;33m\u001b[0m\u001b[0m\n\u001b[0;32m     18\u001b[0m     \u001b[0mMAXS\u001b[0m \u001b[1;33m=\u001b[0m \u001b[0mMAXS\u001b[0m\u001b[1;33m[\u001b[0m\u001b[1;36m1\u001b[0m\u001b[1;33m:\u001b[0m\u001b[1;33m-\u001b[0m\u001b[1;36m1\u001b[0m\u001b[1;33m]\u001b[0m \u001b[1;31m# filter for tp and bottom outlier\u001b[0m\u001b[1;33m\u001b[0m\u001b[1;33m\u001b[0m\u001b[0m\n",
      "\u001b[1;32m~\\AppData\\Local\\Temp\\ipykernel_18820\\1600937217.py\u001b[0m in \u001b[0;36mgetQP\u001b[1;34m(stack, struct, mask, log)\u001b[0m\n\u001b[0;32m     96\u001b[0m     \u001b[1;31m#print(f\"Ik.shape {Ik.shape}\")\u001b[0m\u001b[1;33m\u001b[0m\u001b[1;33m\u001b[0m\u001b[0m\n\u001b[0;32m     97\u001b[0m     \u001b[1;31m#print(f\"mask.shape {mask.shape}\")\u001b[0m\u001b[1;33m\u001b[0m\u001b[1;33m\u001b[0m\u001b[0m\n\u001b[1;32m---> 98\u001b[1;33m     \u001b[0mGamma\u001b[0m\u001b[1;33m=\u001b[0m\u001b[0mnp\u001b[0m\u001b[1;33m.\u001b[0m\u001b[0mmultiply\u001b[0m\u001b[1;33m(\u001b[0m\u001b[0mIk\u001b[0m\u001b[1;33m,\u001b[0m\u001b[0mmask\u001b[0m\u001b[1;33m)\u001b[0m          \u001b[1;31m# cross-spectral density\u001b[0m\u001b[1;33m\u001b[0m\u001b[1;33m\u001b[0m\u001b[0m\n\u001b[0m\u001b[0;32m     99\u001b[0m     \u001b[1;32mif\u001b[0m \u001b[0mlog\u001b[0m\u001b[1;33m:\u001b[0m\u001b[1;33m\u001b[0m\u001b[1;33m\u001b[0m\u001b[0m\n\u001b[0;32m    100\u001b[0m         \u001b[0mprint\u001b[0m\u001b[1;33m(\u001b[0m\u001b[1;34m\"Inverse FFT..\"\u001b[0m\u001b[1;33m)\u001b[0m\u001b[1;33m\u001b[0m\u001b[1;33m\u001b[0m\u001b[0m\n",
      "\u001b[1;31mValueError\u001b[0m: operands could not be broadcast together with shapes (206,206,302) (207,207,302) "
     ]
    }
   ],
   "source": [
    "OPTIM = scipy.optimize.minimize_scalar(QP_optim_tiled, method='bounded', bounds=(init_xa, init_xb))\n",
    "print(f\"-----------------------------------\\n Optimisation finished after {OPTIM.nit} iterations.\\n Alpha: {OPTIM.x}\")"
   ]
  },
  {
   "cell_type": "code",
   "execution_count": null,
   "id": "7c369ec8-d365-43ff-9870-becaa25d6f0c",
   "metadata": {},
   "outputs": [],
   "source": [
    "outputTransformFileName = file + \".QP_optim.npy\"\n",
    "np.save(outputTransformFileName, OPTIM)"
   ]
  },
  {
   "cell_type": "markdown",
   "id": "729a6c58-0525-4a50-8594-4b0d96dfe524",
   "metadata": {},
   "source": [
    "## run with optimised alpha value"
   ]
  },
  {
   "cell_type": "code",
   "execution_count": null,
   "id": "53762afd-2d01-40ed-8157-9fca3ad8cb88",
   "metadata": {},
   "outputs": [],
   "source": [
    "s=phase_structure()\n",
    "\n",
    "s.optics_kzT = 0.01                 # Axial cutoff frequency\n",
    "#s.optics_kzT = 1.3 * (np.pi/0.455)*(1-np.sqrt(1-(0.58)**2))\n",
    "# if set to [], use the theoretical value\n",
    "s.proc_mirrorX = False             # mirror the input stack along X \n",
    "s.proc_mirrorZ = True               # mirror the input stack along Z\n",
    "s.proc_applyFourierMask = True\n",
    "# set experimental parameters\n",
    "if Nz == 4:              # i.e. MultiPlane data\n",
    "    s.optics_dz = 0.72               # [um]\n",
    "else:\n",
    "    s.optics_dz = 0.1               # typical sampling for fixed cells\n",
    "    \n",
    "s.optics_alpha = OPTIM.x\n",
    "phase_structure.summarise(s)"
   ]
  },
  {
   "cell_type": "code",
   "execution_count": null,
   "id": "7794aed7-d5da-4882-966e-d7e59926d0c3",
   "metadata": {},
   "outputs": [],
   "source": [
    "phase = getQP(stack,s)"
   ]
  },
  {
   "cell_type": "markdown",
   "id": "8bdb8a20",
   "metadata": {},
   "source": [
    "# display phase and input stack next to each other"
   ]
  },
  {
   "cell_type": "code",
   "execution_count": null,
   "id": "15c0626a",
   "metadata": {},
   "outputs": [],
   "source": [
    "import matplotlib.pyplot as plt\n",
    "%matplotlib inline\n",
    "from ipywidgets import *\n",
    "\n",
    "def update(z=0):\n",
    "    fig = plt.figure(figsize=(20, 20))\n",
    "    plt.subplot(121)\n",
    "    plt.imshow(stack[:, :, z], cmap='gray')\n",
    "    plt.colorbar(label=\"[e-/ADU]\", orientation=\"vertical\", fraction=0.046, pad=0.04)\n",
    "    plt.title(\"input stack\")\n",
    "    \n",
    "    plt.subplot(122)\n",
    "    plt.imshow(phase[:, :, z], cmap='gray')\n",
    "    plt.title(\"QP\")\n",
    "    plt.colorbar(label=\"[rad]\", orientation=\"vertical\", fraction=0.046, pad=0.04)\n",
    "\n",
    "    plt.tight_layout()\n",
    "\n",
    "    fig.canvas.flush_events()\n",
    "    \n",
    "\n",
    "interact(update, z= widgets.IntSlider(value=1, min=0, max=stack.shape[2]-1, step=1, description=\"Select Z\", continuous_update=True))"
   ]
  },
  {
   "cell_type": "markdown",
   "id": "a491f3a5-6f47-4a1d-aa95-a81c3469a2a0",
   "metadata": {},
   "source": [
    "# write QP to same folder as input with \"QP_\" name qualifier "
   ]
  },
  {
   "cell_type": "code",
   "execution_count": null,
   "id": "99aa3c68-f7ec-45e2-b120-6ceec586a5da",
   "metadata": {},
   "outputs": [],
   "source": [
    "separator = \"\\\\\"\n",
    "parse = file.split(separator)\n",
    "parse[-1] = \"QP_\" + parse[-1]\n",
    "output_path = separator.join(parse[:-1])+separator\n",
    "file = parse[-1]\n",
    "writeData(phase, output_path, file, s)"
   ]
  },
  {
   "cell_type": "markdown",
   "id": "fecbad9f-b730-4231-8129-6ea346ac2790",
   "metadata": {},
   "source": [
    "# Create Maximum intensity projection"
   ]
  },
  {
   "cell_type": "code",
   "execution_count": null,
   "id": "36fb356b-0fa7-4cb9-be51-fcca20e719b4",
   "metadata": {},
   "outputs": [],
   "source": [
    "MIP_phase = np.max(phase, axis=2)\n",
    "fig = plt.figure(figsize=(20, 20))\n",
    "plt.title(f\"Alpha: {s.optics_alpha}\")\n",
    "io.imshow(MIP_phase)\n",
    "io.imsave(os.path.join(output_path, \"MIP_\"+file), MIP_phase)\n",
    "\n"
   ]
  },
  {
   "cell_type": "code",
   "execution_count": null,
   "id": "d7d10968-0273-4c1c-bcdc-438bfc5d28a2",
   "metadata": {},
   "outputs": [],
   "source": []
  },
  {
   "cell_type": "code",
   "execution_count": 16,
   "id": "563a3fe2-88e2-41bf-be6b-0a465599705d",
   "metadata": {},
   "outputs": [
    {
     "data": {
      "text/plain": [
       "2.1075"
      ]
     },
     "execution_count": 16,
     "metadata": {},
     "output_type": "execute_result"
    }
   ],
   "source": [
    "2.81*0.75"
   ]
  },
  {
   "cell_type": "code",
   "execution_count": 17,
   "id": "d7600329-99b3-48c3-b39d-ec361db68a55",
   "metadata": {},
   "outputs": [
    {
     "data": {
      "text/plain": [
       "1.3902549246813443"
      ]
     },
     "execution_count": 17,
     "metadata": {},
     "output_type": "execute_result"
    }
   ],
   "source": [
    "1.59* (0.2/0.863) + 1.33* ((0.863-0.2)/0.863)"
   ]
  },
  {
   "cell_type": "code",
   "execution_count": 22,
   "id": "93d9ef12-edf8-4af3-85b0-6a4fbc394955",
   "metadata": {},
   "outputs": [
    {
     "data": {
      "text/plain": [
       "2.729759161247464"
      ]
     },
     "execution_count": 22,
     "metadata": {},
     "output_type": "execute_result"
    }
   ],
   "source": [
    "1.3902549246813443 *(2*np.pi/640)*200"
   ]
  },
  {
   "cell_type": "code",
   "execution_count": null,
   "id": "0260f68a-4529-4512-b683-8277546482d3",
   "metadata": {},
   "outputs": [],
   "source": []
  }
 ],
 "metadata": {
  "kernelspec": {
   "display_name": "Python 3 (ipykernel)",
   "language": "python",
   "name": "python3"
  },
  "language_info": {
   "codemirror_mode": {
    "name": "ipython",
    "version": 3
   },
   "file_extension": ".py",
   "mimetype": "text/x-python",
   "name": "python",
   "nbconvert_exporter": "python",
   "pygments_lexer": "ipython3",
   "version": "3.10.5"
  },
  "toc": {
   "base_numbering": 1,
   "nav_menu": {},
   "number_sections": true,
   "sideBar": true,
   "skip_h1_title": false,
   "title_cell": "Table of Contents",
   "title_sidebar": "Contents",
   "toc_cell": false,
   "toc_position": {},
   "toc_section_display": true,
   "toc_window_display": false
  }
 },
 "nbformat": 4,
 "nbformat_minor": 5
}
