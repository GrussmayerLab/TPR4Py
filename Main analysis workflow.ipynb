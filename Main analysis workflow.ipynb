{
 "cells": [
  {
   "cell_type": "markdown",
   "id": "d3b3a061",
   "metadata": {},
   "source": [
    "\n",
    "# Main file to run quantitative phase recovery script\n",
    "Original script was written in Matlab by Adrien Descloux (see below)\n",
    "Author: mengelhardt\n",
    "main.py (was QP_main.m)\n",
    "This file contains a basic pipeline for QP retrieval from brightfield stacks\n",
    "    - 3D image stack loading\n",
    "    - 3D stack preprocessing\n",
    "    - processing parameters definition\n",
    "    - phase calculation\n",
    "    - display of the results\n",
    "    \n",
    "---------------------------------------\n",
    "A detailled description of the theory supporting this program can be found in : \n",
    "\"Descloux, A., et al. \"Combined multi-plane phase retrieval and \n",
    "  super-resolution optical fluctuation imaging for 4D cell microscopy.\" \n",
    "  Nature Photonics 12.3 (2018): 165.\"\n",
    "\n",
    "  Copyright © 2018 Adrien Descloux - adrien.descloux@epfl.ch, \n",
    "  École Polytechnique Fédérale de Lausanne, LBEN/LOB,\n",
    "  BM 5.134, Station 17, 1015 Lausanne, Switzerland.\n",
    "\n",
    " \tThis program is free software: you can redistribute it and/or modify\n",
    " \tit under the terms of the GNU General Public License as published by\n",
    " \tthe Free Software Foundation, either version 3 of the License, or\n",
    " \t(at your option) any later version.\n",
    "\n",
    " \tThis program is distributed in the hope that it will be useful,\n",
    " \tbut WITHOUT ANY WARRANTY; without even the implied warranty of\n",
    " \tMERCHANTABILITY or FITNESS FOR A PARTICULAR PURPOSE.  See the\n",
    " \tGNU General Public License for more details.\n",
    "\n",
    " \tYou should have received a copy of the GNU General Public License\n",
    " \talong with this program.  If not, see <http://www.gnu.org/licenses/>.\n"
   ]
  },
  {
   "cell_type": "markdown",
   "id": "131b4815",
   "metadata": {},
   "source": [
    "# load modules"
   ]
  },
  {
   "cell_type": "code",
   "execution_count": 3,
   "id": "b1d8d477",
   "metadata": {},
   "outputs": [],
   "source": [
    "import numpy as np\n",
    "import os\n",
    "#import napari\n",
    "#from utils.io import writeData\n",
    "from utils.cropXY import cropXY\n",
    "from utils.cropCoregMask import cropCoregMask\n",
    "from utils.phase_structure import phase_structure\n",
    "from utils.getQP import getQP\n",
    "#from utils.plotStack import plotStack\n",
    "import tifffile as tf\n",
    "from skimage import io\n",
    "from tqdm import tqdm"
   ]
  },
  {
   "cell_type": "markdown",
   "id": "f28e5e4e",
   "metadata": {},
   "source": [
    "# load data"
   ]
  },
  {
   "cell_type": "code",
   "execution_count": null,
   "id": "88d9db4e-b6aa-412b-a831-59595610cd0a",
   "metadata": {},
   "outputs": [],
   "source": [
    "path = r\"C:\\Users\\mengelhardt\\data\\local\\20220922\\cos7_p9_FOV__7\\registered\"\n",
    "filename = os.listdir(path)\n",
    "fname = [os.path.join(path, x) for x in filename if \".\" in x] #. as indicator for file vs folder \n",
    "idx = 0\n",
    "stack = io.imread(os.path.join(path, fname[idx]))"
   ]
  },
  {
   "cell_type": "code",
   "execution_count": null,
   "id": "ff53f24f",
   "metadata": {},
   "outputs": [],
   "source": [
    "#%% 3D image stack loading\n",
    "#path = r\"C:\\Users\\mengelhardt\\data\\local\\20220922\\phase_calibration\\1um_FOV1\\stack_2\\cropped\\crop\"\n",
    "\n",
    "#stack, fname = loadData(path) # loadData also takes filepath as input \n",
    "# flag if you want to explore the data in napari\n",
    "PLOT_FLAG = False \n",
    "print(stack.shape)"
   ]
  },
  {
   "cell_type": "markdown",
   "id": "99b99218-fbf0-4d00-a186-571397783dfd",
   "metadata": {},
   "source": [
    "## assign dimensions accordingly\n",
    "permute if necessary (order should be x,y,z) "
   ]
  },
  {
   "cell_type": "code",
   "execution_count": null,
   "id": "1c66b867-0d7b-4543-9238-b20d71e28e9a",
   "metadata": {},
   "outputs": [],
   "source": [
    "Nx,Ny,Nz = stack.shape\n",
    "print(stack.shape)\n",
    "stack = np.transpose(stack, (1,2,0))"
   ]
  },
  {
   "cell_type": "markdown",
   "id": "e64cf762",
   "metadata": {},
   "source": [
    "# 3D stack Preprocess stack"
   ]
  },
  {
   "cell_type": "code",
   "execution_count": null,
   "id": "8be1f6f9",
   "metadata": {},
   "outputs": [],
   "source": [
    "if Nz == 8:                                 # i.e. multiplane data: remove the coregistration mask\n",
    "    stack=cropCoregMask(stack)\n",
    "    TEMP_NPIX = 100                         #  variable was undefined in mat file, set accordingly         \n",
    "    stack=cropXY(stack,TEMP_NPIX - 4)       #  extra safety crop \n",
    "else:\n",
    "    stack=cropXY(stack)\n",
    "Nz,Nx,Ny = stack.shape\n",
    "print(stack.shape)"
   ]
  },
  {
   "cell_type": "code",
   "execution_count": 20,
   "id": "17caf5ca",
   "metadata": {},
   "outputs": [
    {
     "name": "stdout",
     "output_type": "stream",
     "text": [
      "Phase structure: \n",
      "_________________\n",
      "s.optics_dx = 0.1083 \t \t s.optics_wv = 0.58\n",
      "s.optics_dz = 0.2 \t \t s.optics_dlambda = 0.075\n",
      "s.optics_NA = 1.3 \t \t s.optics_alpha = 4.21\n",
      "s.optics_NA_ill = 0.19 \t \t s.optics_kzT = 0.01\n",
      "s.optics_n = 1.406\n",
      "Processing paramters: \n",
      "_________________\n",
      "s.proc_mirrorX = False \t \t s.proc_mirrorZ = True\n",
      "s.proc_applyFourierMask = True\n"
     ]
    }
   ],
   "source": [
    "# Phase retrieval\n",
    "# define optics and processing parameters\n",
    "s=phase_structure()\n",
    "s.optics_kzT = 0.01                 # Axial cutoff frequency\n",
    "# if set to [], use the theoretical value\n",
    "s.proc_mirrorX = False              # mirror the input stack along X \n",
    "s.proc_mirrorZ = True               # mirror the input stack along Z\n",
    "s.proc_applyFourierMask = True\n",
    "# set experimental parameters\n",
    "if stack.shape[2] == 8:              # i.e. MultiPlane data\n",
    "    s.optics_dz = 0.35               # [um]\n",
    "else:\n",
    "    s.optics_dz = 0.2               # typical sampling for fixed cells\n",
    "\n",
    "phase_structure.summarise(s)"
   ]
  },
  {
   "cell_type": "markdown",
   "id": "f5d06c75",
   "metadata": {},
   "source": [
    "# compute the phase"
   ]
  },
  {
   "cell_type": "code",
   "execution_count": 21,
   "id": "e200683d",
   "metadata": {},
   "outputs": [
    {
     "name": "stdout",
     "output_type": "stream",
     "text": [
      "Shifting FFT..\n",
      "Inverse FFT..\n"
     ]
    }
   ],
   "source": [
    "QP,mask = getQP(stack,s)"
   ]
  },
  {
   "cell_type": "code",
   "execution_count": 22,
   "id": "d3a35dc7-3375-4e8a-a89e-7590ca256625",
   "metadata": {},
   "outputs": [
    {
     "data": {
      "text/plain": [
       "(469, 469, 251)"
      ]
     },
     "execution_count": 22,
     "metadata": {},
     "output_type": "execute_result"
    }
   ],
   "source": [
    "QP.shape"
   ]
  },
  {
   "cell_type": "code",
   "execution_count": 23,
   "id": "64c3a150",
   "metadata": {},
   "outputs": [],
   "source": [
    "#%% napari 3D stack plotting\n",
    "if PLOT_FLAG:\n",
    "    figID = os.path.basename(fname[0])\n",
    "    plotStack(QP, figID)"
   ]
  },
  {
   "cell_type": "markdown",
   "id": "8bdb8a20",
   "metadata": {},
   "source": [
    "# display phase and input stack next to each other"
   ]
  },
  {
   "cell_type": "code",
   "execution_count": 24,
   "id": "15c0626a",
   "metadata": {},
   "outputs": [
    {
     "data": {
      "application/vnd.jupyter.widget-view+json": {
       "model_id": "def539cdda304244a56b8b0d29c3c0fb",
       "version_major": 2,
       "version_minor": 0
      },
      "text/plain": [
       "interactive(children=(IntSlider(value=1, description='Select Z', max=250), Output()), _dom_classes=('widget-in…"
      ]
     },
     "metadata": {},
     "output_type": "display_data"
    },
    {
     "data": {
      "text/plain": [
       "<function __main__.update(z=0)>"
      ]
     },
     "execution_count": 24,
     "metadata": {},
     "output_type": "execute_result"
    }
   ],
   "source": [
    "import matplotlib.pyplot as plt\n",
    "%matplotlib inline\n",
    "from ipywidgets import *\n",
    "\n",
    "def update(z=0):\n",
    "    c = 1\n",
    "    fig = plt.figure(figsize=(10, 10))\n",
    "    plt.subplot(121)\n",
    "    plt.imshow(stack[:, :, z], cmap='gray')\n",
    "    plt.title(\"input stack\")\n",
    "\n",
    "    plt.subplot(122)\n",
    "    plt.imshow(QP[:, :, z], cmap='gray')\n",
    "    plt.title(\"QP\")\n",
    "    plt.tight_layout()\n",
    "    fig.canvas.flush_events()\n",
    "\n",
    "interact(update, z= widgets.IntSlider(value=1, min=0, max=stack.shape[2]-1, step=1, description=\"Select Z\", continuous_update=True))"
   ]
  },
  {
   "cell_type": "code",
   "execution_count": 25,
   "id": "737ce289-1c31-48e2-8ba6-9b538092b961",
   "metadata": {},
   "outputs": [],
   "source": [
    "def writeData(QP, path, filename, s): \n",
    "    outputImageFileName = os.path.join(path, f\"QP_{filename}\")    \n",
    "    if len(QP.shape) == 4:\n",
    "        QP = np.transpose(QP, (2,1,0,3))\n",
    "        print(\"4d\")\n",
    "        axes = 'ZYXT'\n",
    "    else: \n",
    "        QP = np.transpose(QP, (2,1,0))\n",
    "        print(\"3d\")\n",
    "        axes = \"ZXY\"\n",
    "    print(QP.shape)\n",
    "    tf.imwrite(\n",
    "        outputImageFileName,\n",
    "        QP,\n",
    "        resolution=(1/0.1083, 1/0.1083),\n",
    "        metadata={ \n",
    "            'spacing': s.optics_dz,\n",
    "            'unit': 'um',\n",
    "            'finterval': 1,\n",
    "            'axes': axes\n",
    "        })\n",
    "\n",
    "    print(f\"writing QP stack {outputImageFileName} finished.\")"
   ]
  },
  {
   "cell_type": "code",
   "execution_count": 26,
   "id": "a771ce13-ca3b-442c-a3fc-a98e8f5c15e6",
   "metadata": {},
   "outputs": [
    {
     "name": "stdout",
     "output_type": "stream",
     "text": [
      "3d\n",
      "(251, 469, 469)\n",
      "writing QP stack C:\\Users\\mengelhardt\\data\\local\\20220922\\phase_calibration\\1um_FOV1\\stack_2\\cropped\\crop\\QP\\QP_stack2_l_3.tif finished.\n"
     ]
    }
   ],
   "source": [
    "path_out = os.path.join(path, \"QP\")\n",
    "if not os.path.exists(path_out): #create output folder \n",
    "    os.mkdir(path_out)\n",
    "    print(\"Created %s \" % path_out)\n",
    "    \n",
    "separator = \"\\\\\"    \n",
    "parse = fname[idx].split(separator)\n",
    "file_out = parse[-1]\n",
    "writeData(QP, path_out, file_out, s)"
   ]
  },
  {
   "cell_type": "code",
   "execution_count": null,
   "id": "ade9d7b1-5676-4a81-ac5a-f738eff36389",
   "metadata": {},
   "outputs": [],
   "source": []
  }
 ],
 "metadata": {
  "kernelspec": {
   "display_name": "Python 3 (ipykernel)",
   "language": "python",
   "name": "python3"
  },
  "language_info": {
   "codemirror_mode": {
    "name": "ipython",
    "version": 3
   },
   "file_extension": ".py",
   "mimetype": "text/x-python",
   "name": "python",
   "nbconvert_exporter": "python",
   "pygments_lexer": "ipython3",
   "version": "3.10.5"
  },
  "toc": {
   "base_numbering": 1,
   "nav_menu": {},
   "number_sections": true,
   "sideBar": true,
   "skip_h1_title": false,
   "title_cell": "Table of Contents",
   "title_sidebar": "Contents",
   "toc_cell": false,
   "toc_position": {},
   "toc_section_display": true,
   "toc_window_display": false
  }
 },
 "nbformat": 4,
 "nbformat_minor": 5
}
