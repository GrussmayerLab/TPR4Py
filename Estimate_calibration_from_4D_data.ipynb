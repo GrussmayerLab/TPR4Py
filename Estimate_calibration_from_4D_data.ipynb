{
 "cells": [
  {
   "cell_type": "markdown",
   "id": "d3b3a061",
   "metadata": {},
   "source": [
    "\n",
    "# Estimate calibration factor alpha from 4D beads data (xyzt)\n",
    "\n",
    "This file contains a basic pipeline for QP retrieval from brightfield stacks\n",
    "* 4D image stack loading\n",
    "* 4D stack preprocessing\n",
    "* processing parameters definition\n",
    "* phase calculation\n",
    "* display of the results\n",
    "\n",
    "\n",
    "This program is free software: you can redistribute it and/or modify it under the terms of the GNU General Public License as published by the Free Software Foundation, either version 3 of the License, or (at your option) any later version.\n",
    "\n",
    "This program is distributed in the hope that it will be useful, but WITHOUT ANY WARRANTY; without even the implied warranty of MERCHANTABILITY or FITNESS FOR A PARTICULAR PURPOSE.  See the GNU General Public License for more details.\n",
    "\n",
    " You should have received a copy of the GNU General Public License, with this program.  If not, see <http://www.gnu.org/licenses/>.\n"
   ]
  },
  {
   "cell_type": "markdown",
   "id": "131b4815",
   "metadata": {},
   "source": [
    "# load modules"
   ]
  },
  {
   "cell_type": "code",
   "execution_count": 7,
   "id": "b1d8d477",
   "metadata": {},
   "outputs": [],
   "source": [
    "import numpy as np\n",
    "import os\n",
    "#import napari\n",
    "#from utils.io import loadData, writeData, loadDataOld\n",
    "from utils.cropXY import cropXY\n",
    "from utils.cropCoregMask import cropCoregMask\n",
    "from utils.phase_structure import phase_structure\n",
    "from utils.getQP import getQP\n",
    "#from utils.plotStack import plotStack"
   ]
  },
  {
   "cell_type": "code",
   "execution_count": 2,
   "id": "0e9a32b4-dcaf-4dfb-8f9f-4c2cae7af8a3",
   "metadata": {},
   "outputs": [],
   "source": [
    "# modify QP retrieval to iterate gamma output\n",
    "import numpy as np\n",
    "from numpy import dot, pi, sin, cos, angle, logical_and, logical_or\n",
    "import numpy.fft as fft\n",
    "import math\n",
    "import time\n",
    "from utils.getMirroredStack import getMirroredStack\n",
    "from utils.map3D import map3D\n",
    "from skimage import io\n",
    "\n",
    "def getQP(stack=None,struct=None,mask=None):\n",
    "\n",
    "    # mirror the data and compute adequate Fourier space grid\n",
    "    kx,kz,stackM = getMirroredStack(stack,struct)\n",
    "    \n",
    "    if mask is None: # if no mask is provided\n",
    "        # compute usefull stuff\n",
    "        th=math.asin(struct.optics_NA / struct.optics_n)\n",
    "        th_ill=math.asin(struct.optics_NA_ill / struct.optics_n)\n",
    "        k0max = dot(dot(struct.optics_n,2),pi) / (struct.optics_wv - struct.optics_dlambda / 2) \n",
    "        k0min = dot(dot(struct.optics_n,2),pi) / (struct.optics_wv + struct.optics_dlambda / 2) \n",
    "        \n",
    "        # compute Fourier space grid and the phase mask\n",
    "        Kx,Kz=np.meshgrid(kx,kz)\n",
    "        if struct.optics_kzT is None:\n",
    "            mask2D = Kz >= np.dot(k0max,(1 - cos(th_ill)))\n",
    "        else:\n",
    "            mask2D = Kz >= struct.optics_kzT\n",
    "\n",
    "\n",
    "        if struct.proc_applyFourierMask:  #  => compute the CTF mask for extra denoising\n",
    "            # CTF theory\n",
    "            maskCTF = logical_and(logical_and(logical_and(\n",
    "                ((Kx - dot(k0max,sin(th_ill))) ** 2 + (Kz - dot(k0max,cos(th_ill))) ** 2) <= k0max ** 2, \\\n",
    "                    ((Kx + dot(k0min,sin(th_ill))) ** 2 + (Kz - k0min) ** 2) >= k0min ** 2), Kx >= 0), \\\n",
    "                    Kz < dot(k0max,(1 - cos(th))))            \n",
    "            maskCTF = logical_or(maskCTF,maskCTF[:,::-1])\n",
    "            mask2D = np.asanyarray(logical_and(mask2D,maskCTF), dtype=int)\n",
    "        # since we assume a circular symetric CTF, we expand the 2Dmask in 3D\n",
    "        mask=map3D(mask2D)\n",
    "        #np.save(\"data\\mask3D.npy\", mask)\n",
    "\n",
    "    # Cross-Spectral Density calculation\n",
    "    print(\"Shifting FFT..\")\n",
    "    Ik=fft.fftshift(fft.fftn(fft.fftshift(stackM)))\n",
    "    Gamma=np.multiply(Ik,mask)          # cross-spectral density\n",
    "    print(\"Inverse FFT..\")\n",
    "    csd=fft.ifftshift(fft.ifftn(fft.ifftshift(Gamma)))\n",
    "    csd = csd[:stack.shape[0], :stack.shape[1], :stack.shape[2]]   # remove the mirrored input\n",
    "    \n",
    "    QP = angle(csd + np.mean(np.ravel(stack)) / struct.optics_alpha)\n",
    "\n",
    "    return QP,mask,Gamma"
   ]
  },
  {
   "cell_type": "markdown",
   "id": "f28e5e4e",
   "metadata": {},
   "source": [
    "# load data"
   ]
  },
  {
   "cell_type": "code",
   "execution_count": 3,
   "id": "ff53f24f",
   "metadata": {},
   "outputs": [
    {
     "name": "stdout",
     "output_type": "stream",
     "text": [
      "(251, 109, 112)\n"
     ]
    }
   ],
   "source": [
    "#%% 3D image stack loading\n",
    "file = r\"C:\\Users\\mengelhardt\\data\\local\\20220922\\phase_calibration\\1um_FOV1\\stack_1\\cropped\\bead1_crop.tif\"\n",
    "#z = 4\n",
    "#t = 50\n",
    "#stack, fname = loadData(file,\"tif\", z,t) # loadData also takes filepath as input\n",
    "stack = io.imread(file)\n",
    "# flag if you want to explore the data in napari\n",
    "PLOT_FLAG = True \n",
    "print(stack.shape)"
   ]
  },
  {
   "cell_type": "markdown",
   "id": "0150fa41-26c4-4739-a4bb-aaf69f86a5d6",
   "metadata": {},
   "source": [
    "## assign dimensions accordingly\n",
    "permute if necessary (order should be x,y,z,t) "
   ]
  },
  {
   "cell_type": "code",
   "execution_count": 5,
   "id": "ab542405-1024-4ffd-84e1-1ae456adbc0c",
   "metadata": {},
   "outputs": [
    {
     "name": "stdout",
     "output_type": "stream",
     "text": [
      "(251, 109, 112)\n"
     ]
    }
   ],
   "source": [
    "Nz,Ny,Nx = stack.shape\n",
    "print(stack.shape)"
   ]
  },
  {
   "cell_type": "markdown",
   "id": "e64cf762",
   "metadata": {},
   "source": [
    "# 3D stack Preprocess stack"
   ]
  },
  {
   "cell_type": "code",
   "execution_count": 6,
   "id": "8be1f6f9",
   "metadata": {},
   "outputs": [
    {
     "ename": "NameError",
     "evalue": "name 'cropXY' is not defined",
     "output_type": "error",
     "traceback": [
      "\u001b[1;31m---------------------------------------------------------------------------\u001b[0m",
      "\u001b[1;31mNameError\u001b[0m                                 Traceback (most recent call last)",
      "Input \u001b[1;32mIn [6]\u001b[0m, in \u001b[0;36m<cell line: 1>\u001b[1;34m()\u001b[0m\n\u001b[0;32m      4\u001b[0m     stack\u001b[38;5;241m=\u001b[39mcropXY(stack,TEMP_NPIX \u001b[38;5;241m-\u001b[39m \u001b[38;5;241m4\u001b[39m)       \u001b[38;5;66;03m#  extra safety crop \u001b[39;00m\n\u001b[0;32m      5\u001b[0m \u001b[38;5;28;01melse\u001b[39;00m:\n\u001b[1;32m----> 6\u001b[0m     stack\u001b[38;5;241m=\u001b[39m\u001b[43mcropXY\u001b[49m(stack)\n\u001b[0;32m      7\u001b[0m Nx,Ny,Nz,Nt \u001b[38;5;241m=\u001b[39m stack\u001b[38;5;241m.\u001b[39mshape\n\u001b[0;32m      8\u001b[0m \u001b[38;5;28mprint\u001b[39m(stack\u001b[38;5;241m.\u001b[39mshape)\n",
      "\u001b[1;31mNameError\u001b[0m: name 'cropXY' is not defined"
     ]
    }
   ],
   "source": [
    "if Nz == 8:                                 # i.e. multiplane data: remove the coregistration mask\n",
    "    stack=cropCoregMask(stack)\n",
    "    TEMP_NPIX = 100                         #  variable was undefined in mat file, set accordingly         \n",
    "    stack=cropXY(stack,TEMP_NPIX - 4)       #  extra safety crop \n",
    "else:\n",
    "    stack=cropXY(stack)\n",
    "Nx,Ny,Nz,Nt = stack.shape\n",
    "print(stack.shape)"
   ]
  },
  {
   "cell_type": "markdown",
   "id": "30165e8d-0abc-4765-88f4-fd9bdb02f025",
   "metadata": {},
   "source": [
    "## permute input stack if necessary"
   ]
  },
  {
   "cell_type": "code",
   "execution_count": 8,
   "id": "16d5e63a-6aaf-416a-a253-043f3f43832b",
   "metadata": {},
   "outputs": [
    {
     "name": "stdout",
     "output_type": "stream",
     "text": [
      "(109, 112, 251)\n"
     ]
    }
   ],
   "source": [
    "NEW_ORDER = [1,2,0]\n",
    "stack = np.transpose(stack, NEW_ORDER)\n",
    "\n",
    "Nx,Ny,Nz = stack.shape\n",
    "print(stack.shape)"
   ]
  },
  {
   "cell_type": "code",
   "execution_count": 9,
   "id": "17caf5ca",
   "metadata": {},
   "outputs": [
    {
     "name": "stdout",
     "output_type": "stream",
     "text": [
      "Phase structure: \n",
      "_________________\n",
      "s.optics_dx = 0.1083 \t \t s.optics_wv = 0.58\n",
      "s.optics_dz = 0.2 \t \t s.optics_dlambda = 0.075\n",
      "s.optics_NA = 1.3 \t \t s.optics_alpha = 3.9\n",
      "s.optics_NA_ill = 0.55 \t \t s.optics_kzT = 0.01\n",
      "s.optics_n = 1.406\n",
      "Processing paramters: \n",
      "_________________\n",
      "s.proc_mirrorX = False \t \t s.proc_mirrorZ = True\n",
      "s.proc_applyFourierMask = True\n"
     ]
    }
   ],
   "source": [
    "# Phase retrieval\n",
    "# define optics and processing parameters\n",
    "s=phase_structure()\n",
    "\n",
    "s.optics_kzT = 0.01                 # Axial cutoff frequency\n",
    "#s.optics_kzT = 1.3 * (np.pi/0.455)*(1-np.sqrt(1-(0.58)**2))\n",
    "# if set to [], use the theoretical value\n",
    "s.proc_mirrorX = False              # mirror the input stack along X \n",
    "s.proc_mirrorZ = True               # mirror the input stack along Z\n",
    "s.proc_applyFourierMask = True\n",
    "# set experimental parameters\n",
    "if Nz == 4:              # i.e. MultiPlane data\n",
    "    s.optics_dz = 0.72               # [um]\n",
    "else:\n",
    "    s.optics_dz = 0.2               # typical sampling for fixed cells\n",
    "    \n",
    "phase_structure.summarise(s)"
   ]
  },
  {
   "cell_type": "markdown",
   "id": "f5d06c75",
   "metadata": {},
   "source": [
    "# compute the phase"
   ]
  },
  {
   "cell_type": "code",
   "execution_count": 103,
   "id": "e200683d",
   "metadata": {},
   "outputs": [
    {
     "name": "stdout",
     "output_type": "stream",
     "text": [
      "Processing timepoint 0\n",
      "Shifting FFT..\n",
      "Inverse FFT..\n",
      "Processing timepoint 1\n",
      "Shifting FFT..\n",
      "Inverse FFT..\n",
      "Processing timepoint 2\n",
      "Shifting FFT..\n",
      "Inverse FFT..\n",
      "Processing timepoint 3\n",
      "Shifting FFT..\n",
      "Inverse FFT..\n",
      "Processing timepoint 4\n",
      "Shifting FFT..\n",
      "Inverse FFT..\n",
      "Processing timepoint 5\n",
      "Shifting FFT..\n",
      "Inverse FFT..\n",
      "Processing timepoint 6\n",
      "Shifting FFT..\n",
      "Inverse FFT..\n",
      "Processing timepoint 7\n",
      "Shifting FFT..\n",
      "Inverse FFT..\n",
      "Processing timepoint 8\n",
      "Shifting FFT..\n",
      "Inverse FFT..\n",
      "Processing timepoint 9\n",
      "Shifting FFT..\n",
      "Inverse FFT..\n",
      "Processing timepoint 10\n",
      "Shifting FFT..\n",
      "Inverse FFT..\n",
      "Processing timepoint 11\n",
      "Shifting FFT..\n",
      "Inverse FFT..\n",
      "Processing timepoint 12\n",
      "Shifting FFT..\n",
      "Inverse FFT..\n",
      "Processing timepoint 13\n",
      "Shifting FFT..\n",
      "Inverse FFT..\n",
      "Processing timepoint 14\n",
      "Shifting FFT..\n",
      "Inverse FFT..\n",
      "Processing timepoint 15\n",
      "Shifting FFT..\n",
      "Inverse FFT..\n",
      "Processing timepoint 16\n",
      "Shifting FFT..\n",
      "Inverse FFT..\n",
      "Processing timepoint 17\n",
      "Shifting FFT..\n",
      "Inverse FFT..\n",
      "Processing timepoint 18\n",
      "Shifting FFT..\n",
      "Inverse FFT..\n",
      "Processing timepoint 19\n",
      "Shifting FFT..\n",
      "Inverse FFT..\n",
      "Processing timepoint 20\n",
      "Shifting FFT..\n",
      "Inverse FFT..\n",
      "Processing timepoint 21\n",
      "Shifting FFT..\n",
      "Inverse FFT..\n",
      "Processing timepoint 22\n",
      "Shifting FFT..\n",
      "Inverse FFT..\n",
      "Processing timepoint 23\n",
      "Shifting FFT..\n",
      "Inverse FFT..\n",
      "Processing timepoint 24\n",
      "Shifting FFT..\n",
      "Inverse FFT..\n",
      "Processing timepoint 25\n",
      "Shifting FFT..\n",
      "Inverse FFT..\n",
      "Processing timepoint 26\n",
      "Shifting FFT..\n",
      "Inverse FFT..\n",
      "Processing timepoint 27\n",
      "Shifting FFT..\n",
      "Inverse FFT..\n",
      "Processing timepoint 28\n",
      "Shifting FFT..\n",
      "Inverse FFT..\n",
      "Processing timepoint 29\n",
      "Shifting FFT..\n",
      "Inverse FFT..\n",
      "Processing timepoint 30\n",
      "Shifting FFT..\n",
      "Inverse FFT..\n",
      "Processing timepoint 31\n",
      "Shifting FFT..\n",
      "Inverse FFT..\n",
      "Processing timepoint 32\n",
      "Shifting FFT..\n",
      "Inverse FFT..\n",
      "Processing timepoint 33\n",
      "Shifting FFT..\n",
      "Inverse FFT..\n",
      "Processing timepoint 34\n",
      "Shifting FFT..\n",
      "Inverse FFT..\n",
      "Processing timepoint 35\n",
      "Shifting FFT..\n",
      "Inverse FFT..\n",
      "Processing timepoint 36\n",
      "Shifting FFT..\n",
      "Inverse FFT..\n",
      "Processing timepoint 37\n",
      "Shifting FFT..\n",
      "Inverse FFT..\n",
      "Processing timepoint 38\n",
      "Shifting FFT..\n",
      "Inverse FFT..\n",
      "Processing timepoint 39\n",
      "Shifting FFT..\n",
      "Inverse FFT..\n",
      "Processing timepoint 40\n",
      "Shifting FFT..\n",
      "Inverse FFT..\n",
      "Processing timepoint 41\n",
      "Shifting FFT..\n",
      "Inverse FFT..\n",
      "Processing timepoint 42\n",
      "Shifting FFT..\n",
      "Inverse FFT..\n",
      "Processing timepoint 43\n",
      "Shifting FFT..\n",
      "Inverse FFT..\n",
      "Processing timepoint 44\n",
      "Shifting FFT..\n",
      "Inverse FFT..\n",
      "Processing timepoint 45\n",
      "Shifting FFT..\n",
      "Inverse FFT..\n",
      "Processing timepoint 46\n",
      "Shifting FFT..\n",
      "Inverse FFT..\n",
      "Processing timepoint 47\n",
      "Shifting FFT..\n",
      "Inverse FFT..\n",
      "Processing timepoint 48\n",
      "Shifting FFT..\n",
      "Inverse FFT..\n",
      "Processing timepoint 49\n",
      "Shifting FFT..\n",
      "Inverse FFT..\n"
     ]
    }
   ],
   "source": [
    "QP = np.empty(stack.shape)\n",
    "Gamma = np.empty((stack.shape[0], stack.shape[1], 2*stack.shape[2], stack.shape[3]), dtype=complex)\n",
    "\n",
    "for timepoint in range(Nt):\n",
    "    print(f\"Processing timepoint {timepoint}\")\n",
    "    QP[:,:,:,timepoint], mask, Gamma[:,:,:,timepoint] = getQP(stack[:,:,:,timepoint],s)"
   ]
  },
  {
   "cell_type": "code",
   "execution_count": 74,
   "id": "706b9c78-25a5-45e9-aab7-00dfed0fe7be",
   "metadata": {},
   "outputs": [],
   "source": [
    "re = np.real(Gamma)\n",
    "im = np.imag(Gamma)"
   ]
  },
  {
   "cell_type": "code",
   "execution_count": 99,
   "id": "4306cea0-b779-4f72-91b6-e8ecc81ec837",
   "metadata": {},
   "outputs": [
    {
     "name": "stdout",
     "output_type": "stream",
     "text": [
      "coords: [  4   4   4   1   1  64  67   7   6   6   2   2  33  69  45  46  46  47\n",
      "  58  44  44  26  84  46  67  67  83  83  64  77  77  63  63  68  68  98\n",
      "  48  53  44  44  31  31  56  56  55  31  27  27  28   1  25  26  26  47\n",
      "  47  47  48  48  48  48  47  46  25  25  25  28  28  28  56  32  31  31\n",
      "  52  33  33  48  68  44   4  90  73  73  82  88  89   6   6  11  16  20\n",
      "   6   5  63  97  90  58  35   8  15  75  26  33  33  41  96  96 103  25]\n",
      "coords: [  4   3   1   1   1   1   8   7   7   3   3  87  87  58  58  98  69   8\n",
      "   8  90  17  17  55  56  56  63  58  46  65  44  71  40  73  73  57  71\n",
      "  72  15  73  75  76  56  56  56  56  56  57  57  57  57  72  72  73  72\n",
      "  16  44  43  68   3  31   8  54  32  32   5   6   6   7   7  13  67  62\n",
      "  31  81  65  99  29  29  28  26  91  45  45  27  22  35  18  18  83  84\n",
      "  79  13  11   5   5 104 104 104  93  68  28  32  24 106 107  15  15 103]\n",
      "0: 0.6531237326411733\n",
      "1: 0.6330623951663177\n",
      "2: 0.6222720985351914\n",
      "3: 0.6099012695311719\n",
      "4: 0.6841713867472606\n",
      "5: 0.6981558450534001\n",
      "6: 0.6806028838625798\n",
      "7: 0.7917850508050821\n",
      "8: 0.8229361287810679\n",
      "9: 0.785624338610652\n",
      "10: 0.8097496468121718\n",
      "11: 0.8657034314630379\n",
      "12: 0.8818223582074777\n",
      "13: 1.0040283178370077\n",
      "14: 1.085548166293713\n",
      "15: 1.0228547303613644\n",
      "16: 1.1671984680611227\n",
      "17: 1.2842797779786757\n",
      "18: 1.376846961040324\n",
      "19: 1.5672659695894362\n",
      "20: 1.7658623756255838\n",
      "21: 1.738419209444781\n",
      "22: 2.353769260026661\n",
      "23: 2.288593005494562\n",
      "24: 2.488401509690709\n",
      "25: 2.748052831073366\n",
      "26: 3.113582241207813\n",
      "27: 2.9147270228770443\n",
      "28: 2.9864439186969105\n",
      "29: 2.941596132962863\n",
      "30: 3.106426927579266\n",
      "31: 2.9813215527263814\n",
      "32: 3.0523972566825286\n",
      "33: 0.6228910043225542\n",
      "34: 0.6615027705554233\n",
      "35: 0.8213768084849221\n",
      "36: 0.8608818886376356\n",
      "37: 0.776335656315404\n",
      "38: 0.9285201442600006\n",
      "39: 0.8606197063229659\n",
      "40: 0.7759530126209592\n",
      "41: 0.8667184191915296\n",
      "42: 0.8837536096838314\n",
      "43: 0.8914746784168086\n",
      "44: 0.9074839596815849\n",
      "45: 0.9485307323418174\n",
      "46: 1.104457658714745\n",
      "47: 0.9139242180536068\n",
      "48: 0.9727470755844951\n",
      "49: 1.0715779667886067\n",
      "max Re: 2.5954395527339864\n",
      "max Im: 2.5954395527339864\n"
     ]
    }
   ],
   "source": [
    "print(f\"coords: {np.argmax(QP[:,:,1,16].squeeze(), axis= 1)}\")\n",
    "print(f\"coords: {np.argmax(QP[:,:,1,16].squeeze(), axis=0)}\")\n",
    "m = 0\n",
    "for i in range(QP.shape[3]):\n",
    "    if m < np.max(QP[:,:,1,i]):\n",
    "        m = np.max(QP[:,:,1,i])\n",
    "    print(f\"{i}: {np.max(QP[:,:,1,i])}\")\n",
    "print(f\"max Re: {np.max(re)}\")\n",
    "print(f\"max Im: {np.max(re)}\")"
   ]
  },
  {
   "cell_type": "code",
   "execution_count": 106,
   "id": "54369dc8-ca50-4bde-bd0b-5646358d2531",
   "metadata": {},
   "outputs": [
    {
     "data": {
      "text/plain": [
       "array([[[[ 0.+0.j,  0.+0.j,  0.+0.j, ...,  0.+0.j,  0.+0.j,  0.+0.j],\n",
       "         [ 0.+0.j, -0.+0.j, -0.+0.j, ...,  0.+0.j, -0.+0.j, -0.+0.j],\n",
       "         [-0.+0.j,  0.+0.j, -0.+0.j, ..., -0.+0.j,  0.+0.j,  0.+0.j],\n",
       "         ...,\n",
       "         [ 0.+0.j,  0.-0.j,  0.+0.j, ...,  0.+0.j,  0.+0.j,  0.-0.j],\n",
       "         [ 0.-0.j,  0.+0.j,  0.-0.j, ...,  0.-0.j,  0.+0.j,  0.+0.j],\n",
       "         [ 0.+0.j,  0.-0.j,  0.-0.j, ...,  0.+0.j,  0.-0.j,  0.-0.j]],\n",
       "\n",
       "        [[ 0.+0.j,  0.+0.j,  0.+0.j, ...,  0.+0.j,  0.+0.j,  0.+0.j],\n",
       "         [ 0.+0.j, -0.+0.j, -0.+0.j, ..., -0.+0.j,  0.-0.j,  0.+0.j],\n",
       "         [ 0.-0.j,  0.+0.j,  0.+0.j, ..., -0.+0.j,  0.+0.j,  0.-0.j],\n",
       "         ...,\n",
       "         [ 0.+0.j,  0.-0.j,  0.-0.j, ...,  0.+0.j,  0.+0.j, -0.+0.j],\n",
       "         [ 0.+0.j,  0.+0.j,  0.+0.j, ...,  0.-0.j, -0.+0.j,  0.+0.j],\n",
       "         [-0.+0.j,  0.+0.j,  0.-0.j, ...,  0.-0.j,  0.+0.j,  0.-0.j]],\n",
       "\n",
       "        [[ 0.+0.j,  0.+0.j,  0.+0.j, ...,  0.+0.j,  0.+0.j,  0.+0.j],\n",
       "         [ 0.+0.j,  0.-0.j,  0.+0.j, ..., -0.+0.j,  0.+0.j,  0.+0.j],\n",
       "         [ 0.-0.j,  0.+0.j,  0.+0.j, ...,  0.+0.j,  0.-0.j,  0.-0.j],\n",
       "         ...,\n",
       "         [-0.+0.j, -0.+0.j, -0.+0.j, ...,  0.-0.j,  0.+0.j, -0.+0.j],\n",
       "         [ 0.+0.j,  0.+0.j,  0.+0.j, ..., -0.+0.j,  0.+0.j,  0.+0.j],\n",
       "         [-0.+0.j,  0.+0.j,  0.-0.j, ...,  0.+0.j, -0.+0.j, -0.+0.j]],\n",
       "\n",
       "        ...,\n",
       "\n",
       "        [[ 0.+0.j,  0.+0.j,  0.+0.j, ...,  0.+0.j,  0.+0.j,  0.+0.j],\n",
       "         [ 0.+0.j,  0.+0.j, -0.+0.j, ...,  0.+0.j,  0.+0.j,  0.-0.j],\n",
       "         [-0.+0.j, -0.+0.j,  0.+0.j, ...,  0.-0.j,  0.-0.j,  0.+0.j],\n",
       "         ...,\n",
       "         [ 0.+0.j,  0.+0.j,  0.+0.j, ...,  0.-0.j, -0.+0.j,  0.+0.j],\n",
       "         [ 0.-0.j,  0.-0.j, -0.+0.j, ...,  0.+0.j,  0.+0.j, -0.+0.j],\n",
       "         [ 0.+0.j,  0.+0.j,  0.+0.j, ..., -0.+0.j,  0.-0.j,  0.+0.j]],\n",
       "\n",
       "        [[ 0.+0.j,  0.+0.j,  0.+0.j, ...,  0.+0.j,  0.+0.j,  0.+0.j],\n",
       "         [ 0.-0.j,  0.+0.j, -0.+0.j, ...,  0.+0.j,  0.-0.j,  0.-0.j],\n",
       "         [ 0.+0.j,  0.+0.j,  0.+0.j, ...,  0.-0.j,  0.+0.j,  0.+0.j],\n",
       "         ...,\n",
       "         [ 0.+0.j,  0.-0.j,  0.-0.j, ...,  0.-0.j,  0.+0.j,  0.+0.j],\n",
       "         [-0.+0.j,  0.+0.j,  0.+0.j, ...,  0.+0.j, -0.+0.j, -0.+0.j],\n",
       "         [ 0.+0.j, -0.+0.j,  0.+0.j, ...,  0.-0.j,  0.+0.j,  0.+0.j]],\n",
       "\n",
       "        [[ 0.+0.j,  0.+0.j,  0.+0.j, ...,  0.+0.j,  0.+0.j,  0.+0.j],\n",
       "         [ 0.-0.j,  0.+0.j, -0.+0.j, ..., -0.+0.j,  0.+0.j, -0.+0.j],\n",
       "         [ 0.+0.j,  0.+0.j,  0.+0.j, ..., -0.+0.j,  0.-0.j,  0.+0.j],\n",
       "         ...,\n",
       "         [ 0.+0.j,  0.-0.j,  0.-0.j, ...,  0.+0.j,  0.+0.j,  0.-0.j],\n",
       "         [-0.+0.j,  0.+0.j,  0.+0.j, ...,  0.-0.j,  0.+0.j, -0.+0.j],\n",
       "         [ 0.+0.j,  0.-0.j,  0.-0.j, ...,  0.-0.j, -0.+0.j,  0.+0.j]]],\n",
       "\n",
       "\n",
       "       [[[ 0.+0.j,  0.+0.j,  0.+0.j, ...,  0.+0.j,  0.+0.j,  0.+0.j],\n",
       "         [ 0.-0.j, -0.+0.j,  0.+0.j, ...,  0.-0.j, -0.+0.j,  0.+0.j],\n",
       "         [-0.+0.j,  0.+0.j, -0.+0.j, ...,  0.+0.j,  0.+0.j, -0.+0.j],\n",
       "         ...,\n",
       "         [ 0.+0.j,  0.-0.j,  0.+0.j, ..., -0.+0.j,  0.-0.j,  0.+0.j],\n",
       "         [ 0.-0.j,  0.+0.j,  0.-0.j, ..., -0.+0.j, -0.+0.j,  0.-0.j],\n",
       "         [ 0.+0.j,  0.-0.j,  0.+0.j, ...,  0.+0.j,  0.+0.j,  0.+0.j]],\n",
       "\n",
       "        [[ 0.+0.j,  0.+0.j,  0.+0.j, ...,  0.+0.j,  0.+0.j,  0.+0.j],\n",
       "         [-0.+0.j,  0.-0.j,  0.+0.j, ...,  0.-0.j,  0.-0.j,  0.+0.j],\n",
       "         [ 0.+0.j,  0.+0.j, -0.+0.j, ..., -0.+0.j, -0.+0.j, -0.+0.j],\n",
       "         ...,\n",
       "         [ 0.-0.j,  0.+0.j,  0.+0.j, ...,  0.+0.j, -0.+0.j,  0.+0.j],\n",
       "         [ 0.+0.j, -0.+0.j,  0.-0.j, ...,  0.-0.j,  0.-0.j,  0.-0.j],\n",
       "         [ 0.-0.j,  0.+0.j,  0.+0.j, ...,  0.+0.j,  0.+0.j,  0.+0.j]],\n",
       "\n",
       "        [[ 0.+0.j,  0.+0.j,  0.+0.j, ...,  0.+0.j,  0.+0.j,  0.+0.j],\n",
       "         [ 0.-0.j,  0.-0.j,  0.-0.j, ...,  0.+0.j,  0.-0.j,  0.-0.j],\n",
       "         [-0.+0.j, -0.+0.j, -0.+0.j, ..., -0.+0.j,  0.+0.j, -0.+0.j],\n",
       "         ...,\n",
       "         [ 0.+0.j,  0.+0.j,  0.+0.j, ...,  0.+0.j,  0.+0.j,  0.+0.j],\n",
       "         [ 0.-0.j,  0.-0.j,  0.-0.j, ...,  0.-0.j, -0.+0.j,  0.-0.j],\n",
       "         [ 0.+0.j,  0.+0.j,  0.+0.j, ...,  0.+0.j,  0.+0.j,  0.+0.j]],\n",
       "\n",
       "        ...,\n",
       "\n",
       "        [[ 0.+0.j,  0.+0.j,  0.+0.j, ...,  0.+0.j,  0.+0.j,  0.+0.j],\n",
       "         [ 0.+0.j, -0.+0.j, -0.+0.j, ...,  0.+0.j,  0.+0.j,  0.-0.j],\n",
       "         [ 0.-0.j,  0.+0.j, -0.+0.j, ..., -0.+0.j,  0.+0.j,  0.+0.j],\n",
       "         ...,\n",
       "         [-0.+0.j,  0.-0.j,  0.+0.j, ...,  0.+0.j,  0.-0.j,  0.+0.j],\n",
       "         [ 0.+0.j,  0.+0.j,  0.-0.j, ...,  0.-0.j, -0.+0.j, -0.+0.j],\n",
       "         [ 0.-0.j,  0.-0.j,  0.-0.j, ..., -0.+0.j, -0.+0.j,  0.+0.j]],\n",
       "\n",
       "        [[ 0.+0.j,  0.+0.j,  0.+0.j, ...,  0.+0.j,  0.+0.j,  0.+0.j],\n",
       "         [ 0.-0.j,  0.-0.j, -0.+0.j, ...,  0.-0.j, -0.+0.j,  0.+0.j],\n",
       "         [ 0.+0.j,  0.+0.j,  0.+0.j, ..., -0.+0.j,  0.+0.j,  0.+0.j],\n",
       "         ...,\n",
       "         [ 0.+0.j,  0.+0.j,  0.+0.j, ...,  0.+0.j,  0.-0.j, -0.+0.j],\n",
       "         [-0.+0.j, -0.+0.j,  0.+0.j, ...,  0.-0.j, -0.+0.j,  0.+0.j],\n",
       "         [ 0.+0.j,  0.+0.j,  0.-0.j, ...,  0.+0.j,  0.+0.j,  0.-0.j]],\n",
       "\n",
       "        [[ 0.+0.j,  0.+0.j,  0.+0.j, ...,  0.+0.j,  0.+0.j,  0.+0.j],\n",
       "         [-0.+0.j,  0.+0.j,  0.-0.j, ...,  0.-0.j, -0.+0.j, -0.+0.j],\n",
       "         [ 0.-0.j, -0.+0.j,  0.+0.j, ...,  0.+0.j,  0.+0.j,  0.+0.j],\n",
       "         ...,\n",
       "         [ 0.+0.j,  0.+0.j,  0.+0.j, ...,  0.-0.j, -0.+0.j,  0.-0.j],\n",
       "         [ 0.+0.j,  0.-0.j, -0.+0.j, ...,  0.+0.j,  0.+0.j,  0.+0.j],\n",
       "         [ 0.-0.j,  0.+0.j,  0.+0.j, ...,  0.+0.j,  0.-0.j,  0.+0.j]]],\n",
       "\n",
       "\n",
       "       [[[ 0.+0.j,  0.+0.j,  0.+0.j, ...,  0.+0.j,  0.+0.j,  0.+0.j],\n",
       "         [-0.+0.j,  0.+0.j,  0.+0.j, ...,  0.+0.j,  0.+0.j,  0.+0.j],\n",
       "         [ 0.+0.j,  0.+0.j,  0.-0.j, ...,  0.-0.j,  0.-0.j, -0.+0.j],\n",
       "         ...,\n",
       "         [ 0.-0.j,  0.+0.j, -0.+0.j, ..., -0.+0.j, -0.+0.j,  0.+0.j],\n",
       "         [ 0.+0.j,  0.+0.j,  0.+0.j, ...,  0.+0.j,  0.+0.j,  0.-0.j],\n",
       "         [ 0.-0.j, -0.+0.j,  0.-0.j, ..., -0.+0.j, -0.+0.j,  0.+0.j]],\n",
       "\n",
       "        [[ 0.+0.j,  0.+0.j,  0.+0.j, ...,  0.+0.j,  0.+0.j,  0.+0.j],\n",
       "         [-0.+0.j,  0.+0.j,  0.+0.j, ...,  0.+0.j,  0.+0.j,  0.+0.j],\n",
       "         [ 0.+0.j,  0.-0.j,  0.+0.j, ...,  0.+0.j,  0.-0.j, -0.+0.j],\n",
       "         ...,\n",
       "         [ 0.-0.j, -0.+0.j,  0.+0.j, ...,  0.-0.j, -0.+0.j,  0.+0.j],\n",
       "         [-0.+0.j,  0.+0.j,  0.+0.j, ...,  0.+0.j,  0.+0.j,  0.-0.j],\n",
       "         [ 0.+0.j,  0.-0.j,  0.-0.j, ...,  0.-0.j, -0.+0.j,  0.+0.j]],\n",
       "\n",
       "        [[ 0.+0.j,  0.+0.j,  0.+0.j, ...,  0.+0.j,  0.+0.j,  0.+0.j],\n",
       "         [ 0.+0.j,  0.-0.j,  0.+0.j, ...,  0.+0.j,  0.-0.j, -0.+0.j],\n",
       "         [ 0.-0.j, -0.+0.j, -0.+0.j, ...,  0.+0.j, -0.+0.j,  0.+0.j],\n",
       "         ...,\n",
       "         [-0.+0.j,  0.+0.j,  0.+0.j, ...,  0.-0.j,  0.+0.j,  0.-0.j],\n",
       "         [ 0.+0.j,  0.-0.j,  0.-0.j, ...,  0.+0.j,  0.-0.j, -0.+0.j],\n",
       "         [ 0.+0.j,  0.+0.j,  0.+0.j, ..., -0.+0.j,  0.+0.j,  0.+0.j]],\n",
       "\n",
       "        ...,\n",
       "\n",
       "        [[ 0.+0.j,  0.+0.j,  0.+0.j, ...,  0.+0.j,  0.+0.j,  0.+0.j],\n",
       "         [ 0.-0.j, -0.+0.j,  0.+0.j, ...,  0.+0.j,  0.+0.j, -0.+0.j],\n",
       "         [ 0.+0.j,  0.+0.j,  0.-0.j, ...,  0.-0.j, -0.+0.j, -0.+0.j],\n",
       "         ...,\n",
       "         [ 0.+0.j,  0.+0.j,  0.+0.j, ..., -0.+0.j,  0.-0.j,  0.+0.j],\n",
       "         [-0.+0.j, -0.+0.j,  0.+0.j, ...,  0.+0.j,  0.-0.j,  0.-0.j],\n",
       "         [ 0.+0.j,  0.+0.j, -0.+0.j, ..., -0.+0.j,  0.+0.j,  0.-0.j]],\n",
       "\n",
       "        [[ 0.+0.j,  0.+0.j,  0.+0.j, ...,  0.+0.j,  0.+0.j,  0.+0.j],\n",
       "         [ 0.+0.j,  0.+0.j,  0.+0.j, ..., -0.+0.j,  0.+0.j, -0.+0.j],\n",
       "         [ 0.-0.j,  0.+0.j,  0.-0.j, ...,  0.+0.j,  0.-0.j,  0.+0.j],\n",
       "         ...,\n",
       "         [-0.+0.j,  0.-0.j,  0.+0.j, ...,  0.-0.j, -0.+0.j,  0.-0.j],\n",
       "         [ 0.+0.j,  0.+0.j,  0.+0.j, ...,  0.+0.j,  0.+0.j, -0.+0.j],\n",
       "         [ 0.+0.j,  0.-0.j, -0.+0.j, ...,  0.+0.j,  0.-0.j,  0.+0.j]],\n",
       "\n",
       "        [[ 0.+0.j,  0.+0.j,  0.+0.j, ...,  0.+0.j,  0.+0.j,  0.+0.j],\n",
       "         [ 0.+0.j,  0.-0.j, -0.+0.j, ...,  0.+0.j,  0.-0.j,  0.-0.j],\n",
       "         [ 0.-0.j, -0.+0.j,  0.+0.j, ..., -0.+0.j,  0.+0.j, -0.+0.j],\n",
       "         ...,\n",
       "         [ 0.+0.j,  0.+0.j,  0.+0.j, ...,  0.+0.j,  0.+0.j, -0.+0.j],\n",
       "         [ 0.+0.j,  0.-0.j,  0.+0.j, ...,  0.-0.j, -0.+0.j,  0.-0.j],\n",
       "         [-0.+0.j,  0.+0.j,  0.-0.j, ...,  0.+0.j,  0.+0.j,  0.+0.j]]],\n",
       "\n",
       "\n",
       "       ...,\n",
       "\n",
       "\n",
       "       [[[ 0.+0.j,  0.+0.j,  0.+0.j, ...,  0.+0.j,  0.+0.j,  0.+0.j],\n",
       "         [-0.+0.j,  0.-0.j,  0.-0.j, ..., -0.+0.j,  0.-0.j, -0.+0.j],\n",
       "         [ 0.+0.j,  0.+0.j,  0.+0.j, ...,  0.+0.j,  0.+0.j,  0.+0.j],\n",
       "         ...,\n",
       "         [ 0.+0.j,  0.+0.j,  0.+0.j, ...,  0.+0.j,  0.+0.j, -0.+0.j],\n",
       "         [-0.+0.j, -0.+0.j, -0.+0.j, ...,  0.+0.j, -0.+0.j,  0.+0.j],\n",
       "         [ 0.-0.j,  0.+0.j,  0.+0.j, ...,  0.-0.j,  0.+0.j,  0.-0.j]],\n",
       "\n",
       "        [[ 0.+0.j,  0.+0.j,  0.+0.j, ...,  0.+0.j,  0.+0.j,  0.+0.j],\n",
       "         [-0.+0.j,  0.+0.j, -0.+0.j, ...,  0.-0.j,  0.+0.j, -0.+0.j],\n",
       "         [ 0.+0.j,  0.-0.j,  0.+0.j, ..., -0.+0.j, -0.+0.j,  0.+0.j],\n",
       "         ...,\n",
       "         [ 0.-0.j, -0.+0.j,  0.-0.j, ...,  0.+0.j,  0.+0.j, -0.+0.j],\n",
       "         [ 0.+0.j,  0.+0.j,  0.+0.j, ...,  0.-0.j,  0.-0.j,  0.+0.j],\n",
       "         [ 0.+0.j, -0.+0.j,  0.-0.j, ...,  0.+0.j, -0.+0.j,  0.+0.j]],\n",
       "\n",
       "        [[ 0.+0.j,  0.+0.j,  0.+0.j, ...,  0.+0.j,  0.+0.j,  0.+0.j],\n",
       "         [-0.+0.j,  0.+0.j, -0.+0.j, ...,  0.+0.j,  0.+0.j,  0.+0.j],\n",
       "         [ 0.+0.j, -0.+0.j,  0.+0.j, ..., -0.+0.j,  0.-0.j, -0.+0.j],\n",
       "         ...,\n",
       "         [ 0.-0.j,  0.+0.j,  0.+0.j, ...,  0.+0.j, -0.+0.j,  0.-0.j],\n",
       "         [ 0.+0.j,  0.-0.j, -0.+0.j, ...,  0.-0.j,  0.+0.j,  0.-0.j],\n",
       "         [ 0.-0.j,  0.+0.j,  0.+0.j, ...,  0.+0.j, -0.+0.j,  0.+0.j]],\n",
       "\n",
       "        ...,\n",
       "\n",
       "        [[ 0.+0.j,  0.+0.j,  0.+0.j, ...,  0.+0.j,  0.+0.j,  0.+0.j],\n",
       "         [ 0.+0.j, -0.+0.j,  0.+0.j, ..., -0.+0.j, -0.+0.j, -0.+0.j],\n",
       "         [-0.+0.j,  0.+0.j,  0.-0.j, ...,  0.+0.j,  0.+0.j,  0.+0.j],\n",
       "         ...,\n",
       "         [ 0.+0.j,  0.-0.j,  0.+0.j, ..., -0.+0.j, -0.+0.j,  0.+0.j],\n",
       "         [ 0.-0.j,  0.+0.j,  0.+0.j, ...,  0.+0.j,  0.+0.j, -0.+0.j],\n",
       "         [ 0.+0.j,  0.+0.j, -0.+0.j, ...,  0.+0.j,  0.-0.j,  0.-0.j]],\n",
       "\n",
       "        [[ 0.+0.j,  0.+0.j,  0.+0.j, ...,  0.+0.j,  0.+0.j,  0.+0.j],\n",
       "         [ 0.+0.j,  0.-0.j, -0.+0.j, ...,  0.+0.j,  0.-0.j, -0.+0.j],\n",
       "         [ 0.-0.j, -0.+0.j,  0.+0.j, ..., -0.+0.j, -0.+0.j,  0.+0.j],\n",
       "         ...,\n",
       "         [ 0.+0.j, -0.+0.j, -0.+0.j, ...,  0.+0.j,  0.+0.j,  0.-0.j],\n",
       "         [ 0.+0.j,  0.-0.j,  0.+0.j, ...,  0.-0.j,  0.-0.j,  0.+0.j],\n",
       "         [-0.+0.j,  0.+0.j,  0.-0.j, ...,  0.+0.j,  0.+0.j,  0.-0.j]],\n",
       "\n",
       "        [[ 0.+0.j,  0.+0.j,  0.+0.j, ...,  0.+0.j,  0.+0.j,  0.+0.j],\n",
       "         [ 0.-0.j,  0.-0.j, -0.+0.j, ...,  0.-0.j,  0.-0.j,  0.+0.j],\n",
       "         [-0.+0.j,  0.+0.j,  0.+0.j, ...,  0.+0.j,  0.+0.j,  0.-0.j],\n",
       "         ...,\n",
       "         [ 0.+0.j,  0.+0.j,  0.+0.j, ...,  0.+0.j,  0.+0.j,  0.+0.j],\n",
       "         [ 0.-0.j, -0.+0.j,  0.+0.j, ..., -0.+0.j, -0.+0.j,  0.+0.j],\n",
       "         [ 0.+0.j,  0.+0.j,  0.+0.j, ...,  0.+0.j,  0.+0.j,  0.-0.j]]],\n",
       "\n",
       "\n",
       "       [[[ 0.+0.j,  0.+0.j,  0.+0.j, ...,  0.+0.j,  0.+0.j,  0.+0.j],\n",
       "         [-0.+0.j,  0.-0.j, -0.+0.j, ...,  0.-0.j,  0.-0.j,  0.+0.j],\n",
       "         [ 0.+0.j,  0.+0.j,  0.+0.j, ...,  0.+0.j,  0.+0.j, -0.+0.j],\n",
       "         ...,\n",
       "         [-0.+0.j,  0.+0.j,  0.+0.j, ...,  0.+0.j,  0.-0.j,  0.+0.j],\n",
       "         [ 0.+0.j,  0.+0.j, -0.+0.j, ..., -0.+0.j, -0.+0.j,  0.-0.j],\n",
       "         [ 0.-0.j,  0.+0.j,  0.+0.j, ...,  0.+0.j,  0.+0.j,  0.+0.j]],\n",
       "\n",
       "        [[ 0.+0.j,  0.+0.j,  0.+0.j, ...,  0.+0.j,  0.+0.j,  0.+0.j],\n",
       "         [ 0.-0.j,  0.+0.j, -0.+0.j, ...,  0.+0.j,  0.+0.j,  0.+0.j],\n",
       "         [ 0.+0.j, -0.+0.j,  0.+0.j, ..., -0.+0.j,  0.-0.j, -0.+0.j],\n",
       "         ...,\n",
       "         [ 0.+0.j,  0.+0.j,  0.+0.j, ...,  0.+0.j,  0.+0.j,  0.+0.j],\n",
       "         [-0.+0.j,  0.-0.j,  0.+0.j, ...,  0.-0.j,  0.+0.j,  0.-0.j],\n",
       "         [ 0.+0.j, -0.+0.j,  0.-0.j, ...,  0.+0.j, -0.+0.j, -0.+0.j]],\n",
       "\n",
       "        [[ 0.+0.j,  0.+0.j,  0.+0.j, ...,  0.+0.j,  0.+0.j,  0.+0.j],\n",
       "         [ 0.+0.j, -0.+0.j,  0.-0.j, ...,  0.+0.j, -0.+0.j,  0.+0.j],\n",
       "         [ 0.+0.j,  0.+0.j,  0.+0.j, ...,  0.+0.j,  0.+0.j,  0.-0.j],\n",
       "         ...,\n",
       "         [ 0.-0.j,  0.-0.j,  0.+0.j, ...,  0.-0.j,  0.+0.j, -0.+0.j],\n",
       "         [-0.+0.j,  0.+0.j, -0.+0.j, ...,  0.+0.j, -0.+0.j,  0.+0.j],\n",
       "         [ 0.+0.j,  0.+0.j,  0.+0.j, ...,  0.-0.j,  0.+0.j,  0.-0.j]],\n",
       "\n",
       "        ...,\n",
       "\n",
       "        [[ 0.+0.j,  0.+0.j,  0.+0.j, ...,  0.+0.j,  0.+0.j,  0.+0.j],\n",
       "         [ 0.+0.j, -0.+0.j,  0.+0.j, ...,  0.-0.j,  0.-0.j,  0.+0.j],\n",
       "         [-0.+0.j,  0.+0.j,  0.-0.j, ..., -0.+0.j,  0.+0.j, -0.+0.j],\n",
       "         ...,\n",
       "         [-0.+0.j,  0.+0.j, -0.+0.j, ...,  0.+0.j,  0.-0.j,  0.+0.j],\n",
       "         [ 0.-0.j, -0.+0.j,  0.+0.j, ...,  0.-0.j,  0.+0.j,  0.-0.j],\n",
       "         [ 0.+0.j,  0.+0.j, -0.+0.j, ...,  0.+0.j,  0.+0.j, -0.+0.j]],\n",
       "\n",
       "        [[ 0.+0.j,  0.+0.j,  0.+0.j, ...,  0.+0.j,  0.+0.j,  0.+0.j],\n",
       "         [ 0.+0.j,  0.+0.j,  0.+0.j, ...,  0.-0.j,  0.+0.j,  0.+0.j],\n",
       "         [ 0.+0.j, -0.+0.j, -0.+0.j, ...,  0.+0.j, -0.+0.j,  0.-0.j],\n",
       "         ...,\n",
       "         [ 0.-0.j,  0.+0.j,  0.+0.j, ...,  0.-0.j,  0.+0.j, -0.+0.j],\n",
       "         [-0.+0.j,  0.-0.j,  0.-0.j, ...,  0.+0.j,  0.-0.j,  0.+0.j],\n",
       "         [ 0.+0.j, -0.+0.j,  0.+0.j, ...,  0.+0.j, -0.+0.j,  0.-0.j]],\n",
       "\n",
       "        [[ 0.+0.j,  0.+0.j,  0.+0.j, ...,  0.+0.j,  0.+0.j,  0.+0.j],\n",
       "         [ 0.+0.j, -0.+0.j, -0.+0.j, ..., -0.+0.j,  0.-0.j,  0.+0.j],\n",
       "         [ 0.-0.j,  0.+0.j,  0.+0.j, ...,  0.+0.j,  0.+0.j, -0.+0.j],\n",
       "         ...,\n",
       "         [-0.+0.j,  0.-0.j, -0.+0.j, ...,  0.-0.j,  0.+0.j,  0.+0.j],\n",
       "         [ 0.+0.j, -0.+0.j,  0.+0.j, ...,  0.+0.j, -0.+0.j,  0.-0.j],\n",
       "         [ 0.-0.j,  0.+0.j,  0.+0.j, ...,  0.+0.j,  0.+0.j,  0.+0.j]]],\n",
       "\n",
       "\n",
       "       [[[ 0.+0.j,  0.+0.j,  0.+0.j, ...,  0.+0.j,  0.+0.j,  0.+0.j],\n",
       "         [ 0.+0.j, -0.+0.j,  0.+0.j, ...,  0.+0.j,  0.+0.j,  0.+0.j],\n",
       "         [-0.+0.j,  0.+0.j, -0.+0.j, ...,  0.-0.j,  0.-0.j, -0.+0.j],\n",
       "         ...,\n",
       "         [ 0.+0.j,  0.-0.j,  0.+0.j, ...,  0.+0.j, -0.+0.j,  0.+0.j],\n",
       "         [ 0.-0.j,  0.+0.j,  0.-0.j, ...,  0.+0.j,  0.+0.j,  0.-0.j],\n",
       "         [-0.+0.j,  0.-0.j,  0.+0.j, ..., -0.+0.j,  0.-0.j,  0.+0.j]],\n",
       "\n",
       "        [[ 0.+0.j,  0.+0.j,  0.+0.j, ...,  0.+0.j,  0.+0.j,  0.+0.j],\n",
       "         [-0.+0.j,  0.+0.j,  0.+0.j, ...,  0.+0.j, -0.+0.j,  0.+0.j],\n",
       "         [ 0.+0.j, -0.+0.j,  0.-0.j, ...,  0.+0.j,  0.+0.j,  0.+0.j],\n",
       "         ...,\n",
       "         [ 0.+0.j,  0.+0.j,  0.+0.j, ...,  0.-0.j,  0.-0.j, -0.+0.j],\n",
       "         [-0.+0.j,  0.-0.j,  0.+0.j, ...,  0.+0.j,  0.+0.j,  0.+0.j],\n",
       "         [ 0.-0.j,  0.+0.j, -0.+0.j, ..., -0.+0.j,  0.-0.j,  0.-0.j]],\n",
       "\n",
       "        [[ 0.+0.j,  0.+0.j,  0.+0.j, ...,  0.+0.j,  0.+0.j,  0.+0.j],\n",
       "         [ 0.+0.j,  0.+0.j, -0.+0.j, ...,  0.+0.j,  0.+0.j, -0.+0.j],\n",
       "         [ 0.-0.j,  0.-0.j,  0.+0.j, ..., -0.+0.j,  0.-0.j,  0.+0.j],\n",
       "         ...,\n",
       "         [ 0.+0.j, -0.+0.j,  0.+0.j, ...,  0.+0.j, -0.+0.j,  0.-0.j],\n",
       "         [ 0.+0.j,  0.+0.j,  0.+0.j, ...,  0.-0.j,  0.+0.j,  0.+0.j],\n",
       "         [-0.+0.j, -0.+0.j,  0.-0.j, ..., -0.+0.j,  0.-0.j,  0.+0.j]],\n",
       "\n",
       "        ...,\n",
       "\n",
       "        [[ 0.+0.j,  0.+0.j,  0.+0.j, ...,  0.+0.j,  0.+0.j,  0.+0.j],\n",
       "         [ 0.-0.j,  0.+0.j,  0.-0.j, ...,  0.-0.j,  0.+0.j,  0.+0.j],\n",
       "         [ 0.+0.j, -0.+0.j,  0.-0.j, ...,  0.+0.j,  0.-0.j,  0.-0.j],\n",
       "         ...,\n",
       "         [ 0.+0.j,  0.+0.j, -0.+0.j, ..., -0.+0.j, -0.+0.j, -0.+0.j],\n",
       "         [-0.+0.j,  0.-0.j,  0.+0.j, ..., -0.+0.j,  0.+0.j,  0.+0.j],\n",
       "         [ 0.+0.j,  0.+0.j,  0.+0.j, ...,  0.+0.j, -0.+0.j,  0.-0.j]],\n",
       "\n",
       "        [[ 0.+0.j,  0.+0.j,  0.+0.j, ...,  0.+0.j,  0.+0.j,  0.+0.j],\n",
       "         [ 0.+0.j,  0.+0.j,  0.+0.j, ...,  0.+0.j,  0.+0.j,  0.+0.j],\n",
       "         [-0.+0.j, -0.+0.j, -0.+0.j, ..., -0.+0.j,  0.-0.j, -0.+0.j],\n",
       "         ...,\n",
       "         [ 0.+0.j,  0.+0.j,  0.+0.j, ...,  0.+0.j, -0.+0.j,  0.+0.j],\n",
       "         [ 0.-0.j,  0.-0.j,  0.-0.j, ...,  0.-0.j,  0.+0.j,  0.-0.j],\n",
       "         [-0.+0.j, -0.+0.j, -0.+0.j, ...,  0.+0.j, -0.+0.j, -0.+0.j]],\n",
       "\n",
       "        [[ 0.+0.j,  0.+0.j,  0.+0.j, ...,  0.+0.j,  0.+0.j,  0.+0.j],\n",
       "         [-0.+0.j,  0.+0.j,  0.+0.j, ...,  0.+0.j,  0.+0.j,  0.+0.j],\n",
       "         [ 0.+0.j,  0.-0.j, -0.+0.j, ..., -0.+0.j, -0.+0.j, -0.+0.j],\n",
       "         ...,\n",
       "         [ 0.-0.j,  0.+0.j,  0.+0.j, ...,  0.+0.j,  0.+0.j,  0.+0.j],\n",
       "         [ 0.+0.j,  0.+0.j,  0.-0.j, ...,  0.-0.j,  0.-0.j,  0.-0.j],\n",
       "         [ 0.-0.j, -0.+0.j,  0.+0.j, ..., -0.+0.j, -0.+0.j,  0.+0.j]]]])"
      ]
     },
     "execution_count": 106,
     "metadata": {},
     "output_type": "execute_result"
    }
   ],
   "source": [
    "idx = np.where(QP == m) \n",
    "idx\n",
    "Gamma"
   ]
  },
  {
   "cell_type": "markdown",
   "id": "8bdb8a20",
   "metadata": {},
   "source": [
    "# display phase and input stack next to each other"
   ]
  },
  {
   "cell_type": "code",
   "execution_count": 104,
   "id": "15c0626a",
   "metadata": {},
   "outputs": [
    {
     "data": {
      "application/vnd.jupyter.widget-view+json": {
       "model_id": "62fe2835f03f4467bf6182b93ef1e743",
       "version_major": 2,
       "version_minor": 0
      },
      "text/plain": [
       "interactive(children=(IntSlider(value=1, description='Select Z', max=3), IntSlider(value=1, description='Selec…"
      ]
     },
     "metadata": {},
     "output_type": "display_data"
    },
    {
     "data": {
      "text/plain": [
       "<function __main__.update(z=0, t=0)>"
      ]
     },
     "execution_count": 104,
     "metadata": {},
     "output_type": "execute_result"
    }
   ],
   "source": [
    "import matplotlib.pyplot as plt\n",
    "%matplotlib inline\n",
    "from ipywidgets import *\n",
    "\n",
    "def update(z=0, t = 0):\n",
    "    fig = plt.figure(figsize=(20, 20))\n",
    "    plt.subplot(121)\n",
    "    plt.imshow(stack[:, :, z, t], cmap='gray')\n",
    "    plt.colorbar(label=\"[e-/ADU]\", orientation=\"vertical\", fraction=0.046, pad=0.04)\n",
    "    plt.title(\"input stack\")\n",
    "    \n",
    "    plt.subplot(122)\n",
    "    plt.imshow(QP[:, :, z, t], cmap='gray')\n",
    "    plt.title(\"QP\")\n",
    "    plt.colorbar(label=\"[rad]\", orientation=\"vertical\", fraction=0.046, pad=0.04)\n",
    "\n",
    "    plt.tight_layout()\n",
    "\n",
    "    fig.canvas.flush_events()\n",
    "    \n",
    "\n",
    "interact(update, z= widgets.IntSlider(value=1, min=0, max=stack.shape[2]-1, step=1, description=\"Select Z\", continuous_update=True),\n",
    "                 t = widgets.IntSlider(value=1, min=0, max=stack.shape[3]-1, step=1, description=\"Select T\", continuous_update=True))"
   ]
  },
  {
   "cell_type": "code",
   "execution_count": 76,
   "id": "40b6b2ad-ed05-4c5c-8214-e44c4ed2e525",
   "metadata": {},
   "outputs": [
    {
     "data": {
      "application/vnd.jupyter.widget-view+json": {
       "model_id": "96052d5df28542b7af716f19a71b6eeb",
       "version_major": 2,
       "version_minor": 0
      },
      "text/plain": [
       "interactive(children=(IntSlider(value=1, description='Select Z', max=3), IntSlider(value=1, description='Selec…"
      ]
     },
     "metadata": {},
     "output_type": "display_data"
    },
    {
     "data": {
      "text/plain": [
       "<function __main__.update(z=0, t=0)>"
      ]
     },
     "execution_count": 76,
     "metadata": {},
     "output_type": "execute_result"
    }
   ],
   "source": [
    "import matplotlib.pyplot as plt\n",
    "%matplotlib inline\n",
    "from ipywidgets import *\n",
    "\n",
    "def update(z=0, t = 0):\n",
    "    fig = plt.figure(figsize=(20, 20))\n",
    "    plt.subplot(121)\n",
    "    plt.imshow(stack[:, :, z, t], cmap='gray')\n",
    "    plt.colorbar(label=\"[e-/ADU]\", orientation=\"vertical\", fraction=0.046, pad=0.04)\n",
    "    plt.title(\"input stack\")\n",
    "    \n",
    "    plt.subplot(122)\n",
    "    plt.imshow(im[:, :, z, t], cmap='gray')\n",
    "    plt.title(\"Im\")\n",
    "    plt.colorbar(label=\"[rad]\", orientation=\"vertical\", fraction=0.046, pad=0.04)\n",
    "\n",
    "    plt.tight_layout()\n",
    "\n",
    "    fig.canvas.flush_events()\n",
    "    \n",
    "\n",
    "interact(update, z= widgets.IntSlider(value=1, min=0, max=stack.shape[2]-1, step=1, description=\"Select Z\", continuous_update=True),\n",
    "                 t = widgets.IntSlider(value=1, min=0, max=stack.shape[3]-1, step=1, description=\"Select T\", continuous_update=True))"
   ]
  },
  {
   "cell_type": "code",
   "execution_count": 68,
   "id": "59faf487-7ce4-436f-ae4f-05304027faaa",
   "metadata": {},
   "outputs": [
    {
     "data": {
      "application/vnd.jupyter.widget-view+json": {
       "model_id": "17622a3d7cc24116a48053c59c9bc0e2",
       "version_major": 2,
       "version_minor": 0
      },
      "text/plain": [
       "interactive(children=(IntSlider(value=1, description='Select X', max=332), IntSlider(value=1, description='Sel…"
      ]
     },
     "metadata": {},
     "output_type": "display_data"
    },
    {
     "data": {
      "text/plain": [
       "<function __main__.updateXZ(x=0, z=0)>"
      ]
     },
     "execution_count": 68,
     "metadata": {},
     "output_type": "execute_result"
    }
   ],
   "source": [
    "def updateXZ(x = 0, z = 0):\n",
    "    fig = plt.figure(figsize=(10, 10))\n",
    "    plt.subplot(121)\n",
    "    plt.imshow(stack[x, :, z, :], cmap='gray')\n",
    "    plt.colorbar(label=\"[e-/ADU]\", orientation=\"vertical\", fraction=0.046, pad=0.04)\n",
    "    plt.title(\"input stack\")\n",
    "    \n",
    "    plt.subplot(122)\n",
    "    plt.imshow(QP[x, :, z, :], cmap='gray')\n",
    "    plt.title(\"QP\")\n",
    "    plt.colorbar(label=\"[rad]\", orientation=\"vertical\", fraction=0.046, pad=0.04)\n",
    "    plt.tight_layout()\n",
    "\n",
    "    fig.canvas.flush_events()\n",
    "    \n",
    "\n",
    "interact(updateXZ, z= widgets.IntSlider(value=1, min=0, max=stack.shape[2]-1, step=1, description=\"Select Z\", continuous_update=True),\n",
    "                 x = widgets.IntSlider(value=1, min=0, max=stack.shape[0]-1, step=1, description=\"Select X\", continuous_update=True))"
   ]
  },
  {
   "cell_type": "markdown",
   "id": "a491f3a5-6f47-4a1d-aa95-a81c3469a2a0",
   "metadata": {},
   "source": [
    "# write QP to same folder as input with \"QP_\" name qualifier "
   ]
  },
  {
   "cell_type": "code",
   "execution_count": 19,
   "id": "99aa3c68-f7ec-45e2-b120-6ceec586a5da",
   "metadata": {},
   "outputs": [
    {
     "name": "stdout",
     "output_type": "stream",
     "text": [
      "4d\n",
      "(50, 333, 333, 4)\n",
      "writing QP stack C:/Users/mengelhardt/data/local/20220815/2micron_beads_FOV_5/registered/QP_registered_1660642847.72465_centercrop.tif finished.\n"
     ]
    }
   ],
   "source": [
    "separator = \"/\"\n",
    "parse = fname.split(separator)\n",
    "output_path = separator.join(parse[:-1])+separator\n",
    "file = parse[-1]\n",
    "writeData(QP, output_path, file)"
   ]
  },
  {
   "cell_type": "code",
   "execution_count": null,
   "id": "502a45c7-4620-4580-9e8d-079812979c6e",
   "metadata": {},
   "outputs": [],
   "source": []
  },
  {
   "cell_type": "code",
   "execution_count": 25,
   "id": "97b14c4e-b5d9-4f36-9e5f-3d825764e24a",
   "metadata": {},
   "outputs": [
    {
     "data": {
      "text/plain": [
       "0.28080000000000005"
      ]
     },
     "execution_count": 25,
     "metadata": {},
     "output_type": "execute_result"
    }
   ],
   "source": [
    "10.8*0.26*0.1"
   ]
  },
  {
   "cell_type": "code",
   "execution_count": 23,
   "id": "865329f2-0696-4997-9552-869062599764",
   "metadata": {},
   "outputs": [
    {
     "data": {
      "text/plain": [
       "2.8080000000000003"
      ]
     },
     "execution_count": 23,
     "metadata": {},
     "output_type": "execute_result"
    }
   ],
   "source": [
    "10.8*0.26*1"
   ]
  },
  {
   "cell_type": "code",
   "execution_count": 24,
   "id": "1d388bcd-defb-487c-b07b-7ade90deed75",
   "metadata": {},
   "outputs": [
    {
     "data": {
      "text/plain": [
       "5.6160000000000005"
      ]
     },
     "execution_count": 24,
     "metadata": {},
     "output_type": "execute_result"
    }
   ],
   "source": [
    "10.8*0.26*2"
   ]
  },
  {
   "cell_type": "code",
   "execution_count": null,
   "id": "67d1886f-c983-4e08-a8f5-02ca62415c23",
   "metadata": {},
   "outputs": [],
   "source": []
  }
 ],
 "metadata": {
  "kernelspec": {
   "display_name": "Python 3 (ipykernel)",
   "language": "python",
   "name": "python3"
  },
  "language_info": {
   "codemirror_mode": {
    "name": "ipython",
    "version": 3
   },
   "file_extension": ".py",
   "mimetype": "text/x-python",
   "name": "python",
   "nbconvert_exporter": "python",
   "pygments_lexer": "ipython3",
   "version": "3.10.5"
  },
  "toc": {
   "base_numbering": 1,
   "nav_menu": {},
   "number_sections": true,
   "sideBar": true,
   "skip_h1_title": false,
   "title_cell": "Table of Contents",
   "title_sidebar": "Contents",
   "toc_cell": false,
   "toc_position": {},
   "toc_section_display": true,
   "toc_window_display": false
  }
 },
 "nbformat": 4,
 "nbformat_minor": 5
}
